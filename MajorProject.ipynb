{
  "nbformat": 4,
  "nbformat_minor": 0,
  "metadata": {
    "colab": {
      "name": "MajorProject.ipynb",
      "provenance": [],
      "collapsed_sections": [],
      "include_colab_link": true
    },
    "kernelspec": {
      "name": "python3",
      "display_name": "Python 3"
    },
    "language_info": {
      "name": "python"
    },
    "accelerator": "GPU"
  },
  "cells": [
    {
      "cell_type": "markdown",
      "metadata": {
        "id": "view-in-github",
        "colab_type": "text"
      },
      "source": [
        "<a href=\"https://colab.research.google.com/github/Arnav1511/automobile.analysis/blob/main/MajorProject.ipynb\" target=\"_parent\"><img src=\"https://colab.research.google.com/assets/colab-badge.svg\" alt=\"Open In Colab\"/></a>"
      ]
    },
    {
      "cell_type": "markdown",
      "metadata": {
        "id": "G9SjC0raZiLK"
      },
      "source": [
        "Importing drive library and mounting gdrive"
      ]
    },
    {
      "cell_type": "code",
      "metadata": {
        "id": "xxAYlYss0n6I",
        "colab": {
          "base_uri": "https://localhost:8080/"
        },
        "outputId": "f7ba7729-0375-4cd9-d4ec-2cdd114e575e"
      },
      "source": [
        "from google.colab import drive\n",
        "drive.mount(\"/content/gdrive\")\n"
      ],
      "execution_count": 10,
      "outputs": [
        {
          "output_type": "stream",
          "name": "stdout",
          "text": [
            "Drive already mounted at /content/gdrive; to attempt to forcibly remount, call drive.mount(\"/content/gdrive\", force_remount=True).\n"
          ]
        }
      ]
    },
    {
      "cell_type": "markdown",
      "metadata": {
        "id": "cvU-GnGcZt93"
      },
      "source": [
        "Mounting the dataset"
      ]
    },
    {
      "cell_type": "code",
      "metadata": {
        "id": "7ZVTauN47Wd3"
      },
      "source": [
        "import os\n",
        "os.environ['AUTOMOBILEDATA_CONFIG_DIR']='/content/gdrive/MyDrive/Automobiledata'"
      ],
      "execution_count": 11,
      "outputs": []
    },
    {
      "cell_type": "code",
      "metadata": {
        "colab": {
          "base_uri": "https://localhost:8080/"
        },
        "id": "x1PAWYlj7ZW_",
        "outputId": "6a0c99e6-a17d-4cbd-92f1-edb38752c2f9"
      },
      "source": [
        "%cd /content/gdrive/MyDrive/Automobiledata"
      ],
      "execution_count": 21,
      "outputs": [
        {
          "output_type": "stream",
          "name": "stdout",
          "text": [
            "/content/gdrive/MyDrive/Automobiledata\n"
          ]
        }
      ]
    },
    {
      "cell_type": "markdown",
      "metadata": {
        "id": "TbPKeqEtZ1cM"
      },
      "source": [
        "Listing all the contents"
      ]
    },
    {
      "cell_type": "code",
      "metadata": {
        "colab": {
          "base_uri": "https://localhost:8080/"
        },
        "id": "HGPE9peo7dkP",
        "outputId": "7d33e5fe-01fa-4b41-f5bd-68487f1c9efa"
      },
      "source": [
        "!ls\n"
      ],
      "execution_count": 22,
      "outputs": [
        {
          "output_type": "stream",
          "name": "stdout",
          "text": [
            "Automobiledata.csv\n"
          ]
        }
      ]
    },
    {
      "cell_type": "code",
      "metadata": {
        "colab": {
          "base_uri": "https://localhost:8080/"
        },
        "id": "EpmV8x567oaG",
        "outputId": "bf962cde-4d49-4325-de4b-e2a1631ebe47"
      },
      "source": [
        "!pwd\n"
      ],
      "execution_count": 23,
      "outputs": [
        {
          "output_type": "stream",
          "name": "stdout",
          "text": [
            "/content/gdrive/MyDrive/Automobiledata\n"
          ]
        }
      ]
    },
    {
      "cell_type": "markdown",
      "metadata": {
        "id": "Ew6s6IlYZ6rF"
      },
      "source": [
        "Downloading dataset from Kaggle"
      ]
    },
    {
      "cell_type": "code",
      "metadata": {
        "id": "b5UgOpgY7q2C"
      },
      "source": [
        ""
      ],
      "execution_count": 23,
      "outputs": []
    },
    {
      "cell_type": "code",
      "metadata": {
        "colab": {
          "base_uri": "https://localhost:8080/"
        },
        "id": "LVABHJk479xO",
        "outputId": "0ceb07a0-e432-4d59-85ee-0fe6dfd2a59d"
      },
      "source": [
        "!ls"
      ],
      "execution_count": 24,
      "outputs": [
        {
          "output_type": "stream",
          "name": "stdout",
          "text": [
            "Automobiledata.csv\n"
          ]
        }
      ]
    },
    {
      "cell_type": "markdown",
      "metadata": {
        "id": "vyfxqyLhaADb"
      },
      "source": [
        "Unzipping the dataset"
      ]
    },
    {
      "cell_type": "code",
      "metadata": {
        "id": "F1fMmxjw8DK7"
      },
      "source": [
        ""
      ],
      "execution_count": 24,
      "outputs": []
    },
    {
      "cell_type": "code",
      "metadata": {
        "colab": {
          "base_uri": "https://localhost:8080/"
        },
        "id": "jUkxbv_Z8Ggg",
        "outputId": "2048cc26-7034-44ea-d7a7-888bce79be9a"
      },
      "source": [
        "!ls\n"
      ],
      "execution_count": 25,
      "outputs": [
        {
          "output_type": "stream",
          "name": "stdout",
          "text": [
            "Automobiledata.csv\n"
          ]
        }
      ]
    },
    {
      "cell_type": "markdown",
      "metadata": {
        "id": "evntXTLhaGbw"
      },
      "source": [
        "Creating dataframe from the dataset"
      ]
    },
    {
      "cell_type": "code",
      "metadata": {
        "id": "k6suY8f98UGu"
      },
      "source": [
        "import pandas as pd\n",
        "df=pd.read_csv(\"Automobiledata.csv\", encoding='cp1252')\n"
      ],
      "execution_count": 36,
      "outputs": []
    },
    {
      "cell_type": "code",
      "metadata": {
        "colab": {
          "base_uri": "https://localhost:8080/"
        },
        "id": "v0XFHAQL8dGb",
        "outputId": "184c8437-e5d8-4dd0-e3a7-58cc411c94f8"
      },
      "source": [
        "df.shape"
      ],
      "execution_count": 37,
      "outputs": [
        {
          "output_type": "execute_result",
          "data": {
            "text/plain": [
              "(284715, 8)"
            ]
          },
          "metadata": {},
          "execution_count": 37
        }
      ]
    },
    {
      "cell_type": "code",
      "metadata": {
        "colab": {
          "base_uri": "https://localhost:8080/"
        },
        "id": "mJndR-2P8hHX",
        "outputId": "87674c9a-447f-4467-c6df-c895980160f3"
      },
      "source": [
        "df.columns"
      ],
      "execution_count": 38,
      "outputs": [
        {
          "output_type": "execute_result",
          "data": {
            "text/plain": [
              "Index(['Vehicle_Title', 'Unnamed: 1', 'Unnamed: 2', 'Unnamed: 3', 'Unnamed: 4',\n",
              "       'Review', 'Unnamed: 6', 'Unnamed: 7'],\n",
              "      dtype='object')"
            ]
          },
          "metadata": {},
          "execution_count": 38
        }
      ]
    },
    {
      "cell_type": "markdown",
      "metadata": {
        "id": "ibBHOdnhaOx1"
      },
      "source": [
        "Extract the reviews"
      ]
    },
    {
      "cell_type": "code",
      "metadata": {
        "colab": {
          "base_uri": "https://localhost:8080/"
        },
        "id": "bo6XUObNsN9o",
        "outputId": "fc7dc565-0382-47c1-9dd7-e76bcaff3e1c"
      },
      "source": [
        "tweet=df.Review.values\n",
        "print(tweet)"
      ],
      "execution_count": 39,
      "outputs": [
        {
          "output_type": "stream",
          "name": "stdout",
          "text": [
            "[' I have never posted an online review of a car, but the G90 deserves a review.  The most economical way to describe it is 85% of an S Class at 60% of the price.  In my case, because of the lease cash available, I paid roughly 50% of what I would have paid for a comparably equipped S Class.  My previous car was a 2015 Hyundai Genesis, which I really like even though it had two issues-- the dealer service was beyond awful (I got sub-Hyundai level service as a Genesis owner) and the build quality was a bit lacking (rattles in the front left wheel, behind the glove compartment and in the sunroof that were never resolved).  I think the service issue will be resolved as Genesis narrows its dealer network.  The concierge service likely will also help, but I have not used it yet.  So far, the build quality on my G90 has been flawless.  The technology on the car is impeccable.  Nothing groundbreaking, but it has everything you would want (other than Apple CarPlay and Android Auto) and, more important, everything is intuitive and easy to use.  You can adjust the climate, use the navigation and use the media with minimal distraction.  The ride quality is exceptional.  This car is true luxury.  If you are shopping for a car in which to pamper yourself, make sure you look at this one.  I know there is a certain snob appeal to a Mercedes, BMW or Audi badge, but you can impress your friends just as much by proving you are smart enough to save tens of thousands of dollars, while still driving in luxury.'\n",
            " ' Be prepared to be amazed at what you get for the price. And, there are no sticker inflating extras either. The only two options available are a V-8 and AWD, everything else is standard.'\n",
            " \" Genesis G90Took delivery of a Genesis G90 in March and am very, very pleased. The ride, handling, technology, materials, build quality, quietness and performance are excellent. The twin turbo V6 is an absolute gem - even more responsive than the very good V8s in other Genesis and Equus cars I’ve owned. In the past, have had a wide range of cars, domestic and foreign, including luxury cars, sport sedans, muscle cars and sports cars. This is my 5th Hyundai-built car. Started when Hertz gave me an XG350 during a business trip. The XG was then the top of the line and, although I'd never heard of it, I liked it and subsequently bought one. Later, traded the XG on an Azera, traded the Azera on a Genesis 4.6 Ultimate, traded the 4.6 on an Equus Ultimate and traded it on the G90, so I know top-of-the-line Hyundais pretty well. Each new one has been a very significant step up from its predecessor. However, all of them have been very well built using quality materials, performed well and were dead reliable. I have never had to have repair work of any kind on any Hyundai-built car I've owned. In my opinion, the G90 is close to the equal of a similarly equipped S-Class that costs $45,000 more. The G90 does not equal the Mercedes in prestige or status and probably never will. But it's a fine, world-class luxury car at an outstanding price.UPDATE: After driving the G90 for more than a year, am even more pleased. Zero problems. When I occasionally drive another luxury car, I’m reminded how much better the G90 is. I am now convinced it is at least the equal of an S Class. The main difference with the G90 is that there’s not as much risk of appearing pretentious - a definite plus for some people.\"\n",
            " ... nan nan\n",
            " ' I love my car. It is fun to drive, has great pick up, handles well. I have no problems on busy freeways. It is very comfortable to take on long trips, as long as there are not more than 2 people.']\n"
          ]
        }
      ]
    },
    {
      "cell_type": "markdown",
      "metadata": {
        "id": "w8NYSAoEaYhY"
      },
      "source": [
        "Tokenizing and removing stopwords"
      ]
    },
    {
      "cell_type": "code",
      "metadata": {
        "colab": {
          "base_uri": "https://localhost:8080/"
        },
        "id": "iUyj3lPTwH6A",
        "outputId": "1f4cc520-2cc4-4dfa-bfe8-e08e9c5bd25d"
      },
      "source": [
        "import nltk \n",
        "from nltk.tokenize import RegexpTokenizer #to remove punctuations and tokenize the text\n",
        "from nltk.corpus import stopwords # to remove the stop words after tokenization\n",
        "nltk.download('stopwords')\n",
        "nltk.download('punkt')\n",
        "\n",
        "#tokens_without_sw = [word for word in tweet if not word in stopwords.words()]"
      ],
      "execution_count": 40,
      "outputs": [
        {
          "output_type": "stream",
          "name": "stdout",
          "text": [
            "[nltk_data] Downloading package stopwords to /root/nltk_data...\n",
            "[nltk_data]   Unzipping corpora/stopwords.zip.\n",
            "[nltk_data] Downloading package punkt to /root/nltk_data...\n",
            "[nltk_data]   Unzipping tokenizers/punkt.zip.\n"
          ]
        },
        {
          "output_type": "execute_result",
          "data": {
            "text/plain": [
              "True"
            ]
          },
          "metadata": {},
          "execution_count": 40
        }
      ]
    },
    {
      "cell_type": "markdown",
      "metadata": {
        "id": "1-khqFOOfEyV"
      },
      "source": [
        "Cleaning the Text (emojis, mentions, hashtags, hyperlinks)"
      ]
    },
    {
      "cell_type": "code",
      "metadata": {
        "colab": {
          "base_uri": "https://localhost:8080/",
          "height": 415
        },
        "id": "xjgsNK-VgreA",
        "outputId": "13e31531-78e1-4039-98bf-bfdaac51de2c"
      },
      "source": [
        "import re\n",
        "\n",
        "emojis = re.compile(\"[\"\n",
        "    u\"\\U0001F600-\\U0001F64F\"  # emoticons\n",
        "    u\"\\U0001F300-\\U0001F5FF\"  # symbols & pictographs\n",
        "    u\"\\U0001F680-\\U0001F6FF\"  # transport & map symbols\n",
        "    u\"\\U0001F1E0-\\U0001F1FF\"  # flags (iOS)\n",
        "                        \"]+\", flags=re.UNICODE)\n",
        "\n",
        "def cleanTxt(Review):\n",
        "  Review = re.sub(r'@[+-[0-9]+\\[0-9]+','',Review) #Removed @mentions\n",
        "  Review = re.sub(r'#','',Review) #Removing the #symbol\n",
        "  Review = re.sub(r'RT[\\s]+','',Review)  #Removing the RT\n",
        "  Review = re.sub(r'https?:\\/\\/\\S+','',Review) #Removing the hyperlinks\n",
        "  Review = emojis.sub(r'',Review) #remove emojis\n",
        "\n",
        "  return Review\n",
        "\n",
        "\n",
        "#Cleaning the text\n",
        "df['Review']=df['Review'].apply(cleanTxt)\n",
        "\n",
        "#Show the cleaned text\n",
        "df.tail(12)\n"
      ],
      "execution_count": 57,
      "outputs": [
        {
          "output_type": "error",
          "ename": "TypeError",
          "evalue": "ignored",
          "traceback": [
            "\u001b[0;31m---------------------------------------------------------------------------\u001b[0m",
            "\u001b[0;31mTypeError\u001b[0m                                 Traceback (most recent call last)",
            "\u001b[0;32m<ipython-input-57-373c32ca7e26>\u001b[0m in \u001b[0;36m<module>\u001b[0;34m()\u001b[0m\n\u001b[1;32m     19\u001b[0m \u001b[0;34m\u001b[0m\u001b[0m\n\u001b[1;32m     20\u001b[0m \u001b[0;31m#Cleaning the text\u001b[0m\u001b[0;34m\u001b[0m\u001b[0;34m\u001b[0m\u001b[0;34m\u001b[0m\u001b[0m\n\u001b[0;32m---> 21\u001b[0;31m \u001b[0mdf\u001b[0m\u001b[0;34m[\u001b[0m\u001b[0;34m'Review'\u001b[0m\u001b[0;34m]\u001b[0m\u001b[0;34m=\u001b[0m\u001b[0mdf\u001b[0m\u001b[0;34m[\u001b[0m\u001b[0;34m'Review'\u001b[0m\u001b[0;34m]\u001b[0m\u001b[0;34m.\u001b[0m\u001b[0mapply\u001b[0m\u001b[0;34m(\u001b[0m\u001b[0mcleanTxt\u001b[0m\u001b[0;34m)\u001b[0m\u001b[0;34m\u001b[0m\u001b[0;34m\u001b[0m\u001b[0m\n\u001b[0m\u001b[1;32m     22\u001b[0m \u001b[0;34m\u001b[0m\u001b[0m\n\u001b[1;32m     23\u001b[0m \u001b[0;31m#Show the cleaned text\u001b[0m\u001b[0;34m\u001b[0m\u001b[0;34m\u001b[0m\u001b[0;34m\u001b[0m\u001b[0m\n",
            "\u001b[0;32m/usr/local/lib/python3.7/dist-packages/pandas/core/series.py\u001b[0m in \u001b[0;36mapply\u001b[0;34m(self, func, convert_dtype, args, **kwds)\u001b[0m\n\u001b[1;32m   4211\u001b[0m             \u001b[0;32melse\u001b[0m\u001b[0;34m:\u001b[0m\u001b[0;34m\u001b[0m\u001b[0;34m\u001b[0m\u001b[0m\n\u001b[1;32m   4212\u001b[0m                 \u001b[0mvalues\u001b[0m \u001b[0;34m=\u001b[0m \u001b[0mself\u001b[0m\u001b[0;34m.\u001b[0m\u001b[0mastype\u001b[0m\u001b[0;34m(\u001b[0m\u001b[0mobject\u001b[0m\u001b[0;34m)\u001b[0m\u001b[0;34m.\u001b[0m\u001b[0m_values\u001b[0m\u001b[0;34m\u001b[0m\u001b[0;34m\u001b[0m\u001b[0m\n\u001b[0;32m-> 4213\u001b[0;31m                 \u001b[0mmapped\u001b[0m \u001b[0;34m=\u001b[0m \u001b[0mlib\u001b[0m\u001b[0;34m.\u001b[0m\u001b[0mmap_infer\u001b[0m\u001b[0;34m(\u001b[0m\u001b[0mvalues\u001b[0m\u001b[0;34m,\u001b[0m \u001b[0mf\u001b[0m\u001b[0;34m,\u001b[0m \u001b[0mconvert\u001b[0m\u001b[0;34m=\u001b[0m\u001b[0mconvert_dtype\u001b[0m\u001b[0;34m)\u001b[0m\u001b[0;34m\u001b[0m\u001b[0;34m\u001b[0m\u001b[0m\n\u001b[0m\u001b[1;32m   4214\u001b[0m \u001b[0;34m\u001b[0m\u001b[0m\n\u001b[1;32m   4215\u001b[0m         \u001b[0;32mif\u001b[0m \u001b[0mlen\u001b[0m\u001b[0;34m(\u001b[0m\u001b[0mmapped\u001b[0m\u001b[0;34m)\u001b[0m \u001b[0;32mand\u001b[0m \u001b[0misinstance\u001b[0m\u001b[0;34m(\u001b[0m\u001b[0mmapped\u001b[0m\u001b[0;34m[\u001b[0m\u001b[0;36m0\u001b[0m\u001b[0;34m]\u001b[0m\u001b[0;34m,\u001b[0m \u001b[0mSeries\u001b[0m\u001b[0;34m)\u001b[0m\u001b[0;34m:\u001b[0m\u001b[0;34m\u001b[0m\u001b[0;34m\u001b[0m\u001b[0m\n",
            "\u001b[0;32mpandas/_libs/lib.pyx\u001b[0m in \u001b[0;36mpandas._libs.lib.map_infer\u001b[0;34m()\u001b[0m\n",
            "\u001b[0;32m<ipython-input-57-373c32ca7e26>\u001b[0m in \u001b[0;36mcleanTxt\u001b[0;34m(Review)\u001b[0m\n\u001b[1;32m      9\u001b[0m \u001b[0;34m\u001b[0m\u001b[0m\n\u001b[1;32m     10\u001b[0m \u001b[0;32mdef\u001b[0m \u001b[0mcleanTxt\u001b[0m\u001b[0;34m(\u001b[0m\u001b[0mReview\u001b[0m\u001b[0;34m)\u001b[0m\u001b[0;34m:\u001b[0m\u001b[0;34m\u001b[0m\u001b[0;34m\u001b[0m\u001b[0m\n\u001b[0;32m---> 11\u001b[0;31m   \u001b[0mReview\u001b[0m \u001b[0;34m=\u001b[0m \u001b[0mre\u001b[0m\u001b[0;34m.\u001b[0m\u001b[0msub\u001b[0m\u001b[0;34m(\u001b[0m\u001b[0;34mr'@[+-[0-9]+\\[0-9]+'\u001b[0m\u001b[0;34m,\u001b[0m\u001b[0;34m''\u001b[0m\u001b[0;34m,\u001b[0m\u001b[0mReview\u001b[0m\u001b[0;34m)\u001b[0m \u001b[0;31m#Removed @mentions\u001b[0m\u001b[0;34m\u001b[0m\u001b[0;34m\u001b[0m\u001b[0m\n\u001b[0m\u001b[1;32m     12\u001b[0m   \u001b[0mReview\u001b[0m \u001b[0;34m=\u001b[0m \u001b[0mre\u001b[0m\u001b[0;34m.\u001b[0m\u001b[0msub\u001b[0m\u001b[0;34m(\u001b[0m\u001b[0;34mr'#'\u001b[0m\u001b[0;34m,\u001b[0m\u001b[0;34m''\u001b[0m\u001b[0;34m,\u001b[0m\u001b[0mReview\u001b[0m\u001b[0;34m)\u001b[0m \u001b[0;31m#Removing the #symbol\u001b[0m\u001b[0;34m\u001b[0m\u001b[0;34m\u001b[0m\u001b[0m\n\u001b[1;32m     13\u001b[0m   \u001b[0mReview\u001b[0m \u001b[0;34m=\u001b[0m \u001b[0mre\u001b[0m\u001b[0;34m.\u001b[0m\u001b[0msub\u001b[0m\u001b[0;34m(\u001b[0m\u001b[0;34mr'RT[\\s]+'\u001b[0m\u001b[0;34m,\u001b[0m\u001b[0;34m''\u001b[0m\u001b[0;34m,\u001b[0m\u001b[0mReview\u001b[0m\u001b[0;34m)\u001b[0m  \u001b[0;31m#Removing the RT\u001b[0m\u001b[0;34m\u001b[0m\u001b[0;34m\u001b[0m\u001b[0m\n",
            "\u001b[0;32m/usr/lib/python3.7/re.py\u001b[0m in \u001b[0;36msub\u001b[0;34m(pattern, repl, string, count, flags)\u001b[0m\n\u001b[1;32m    192\u001b[0m     \u001b[0ma\u001b[0m \u001b[0mcallable\u001b[0m\u001b[0;34m,\u001b[0m \u001b[0mit\u001b[0m\u001b[0;31m'\u001b[0m\u001b[0ms\u001b[0m \u001b[0mpassed\u001b[0m \u001b[0mthe\u001b[0m \u001b[0mMatch\u001b[0m \u001b[0mobject\u001b[0m \u001b[0;32mand\u001b[0m \u001b[0mmust\u001b[0m \u001b[0;32mreturn\u001b[0m\u001b[0;34m\u001b[0m\u001b[0;34m\u001b[0m\u001b[0m\n\u001b[1;32m    193\u001b[0m     a replacement string to be used.\"\"\"\n\u001b[0;32m--> 194\u001b[0;31m     \u001b[0;32mreturn\u001b[0m \u001b[0m_compile\u001b[0m\u001b[0;34m(\u001b[0m\u001b[0mpattern\u001b[0m\u001b[0;34m,\u001b[0m \u001b[0mflags\u001b[0m\u001b[0;34m)\u001b[0m\u001b[0;34m.\u001b[0m\u001b[0msub\u001b[0m\u001b[0;34m(\u001b[0m\u001b[0mrepl\u001b[0m\u001b[0;34m,\u001b[0m \u001b[0mstring\u001b[0m\u001b[0;34m,\u001b[0m \u001b[0mcount\u001b[0m\u001b[0;34m)\u001b[0m\u001b[0;34m\u001b[0m\u001b[0;34m\u001b[0m\u001b[0m\n\u001b[0m\u001b[1;32m    195\u001b[0m \u001b[0;34m\u001b[0m\u001b[0m\n\u001b[1;32m    196\u001b[0m \u001b[0;32mdef\u001b[0m \u001b[0msubn\u001b[0m\u001b[0;34m(\u001b[0m\u001b[0mpattern\u001b[0m\u001b[0;34m,\u001b[0m \u001b[0mrepl\u001b[0m\u001b[0;34m,\u001b[0m \u001b[0mstring\u001b[0m\u001b[0;34m,\u001b[0m \u001b[0mcount\u001b[0m\u001b[0;34m=\u001b[0m\u001b[0;36m0\u001b[0m\u001b[0;34m,\u001b[0m \u001b[0mflags\u001b[0m\u001b[0;34m=\u001b[0m\u001b[0;36m0\u001b[0m\u001b[0;34m)\u001b[0m\u001b[0;34m:\u001b[0m\u001b[0;34m\u001b[0m\u001b[0;34m\u001b[0m\u001b[0m\n",
            "\u001b[0;31mTypeError\u001b[0m: expected string or bytes-like object"
          ]
        }
      ]
    },
    {
      "cell_type": "code",
      "metadata": {
        "id": "B2aqfOUL12uZ"
      },
      "source": [
        "df=df.drop_duplicates(subset='Review')"
      ],
      "execution_count": 45,
      "outputs": []
    },
    {
      "cell_type": "code",
      "metadata": {
        "colab": {
          "base_uri": "https://localhost:8080/",
          "height": 677
        },
        "id": "3xvPhXRA2GhM",
        "outputId": "80846627-be98-4962-dfbd-90bd4c666dc5"
      },
      "source": [
        "df.tail(20)"
      ],
      "execution_count": 46,
      "outputs": [
        {
          "output_type": "execute_result",
          "data": {
            "text/html": [
              "\n",
              "  <div id=\"df-c90967f4-babf-47a0-ac1a-8647133887c0\">\n",
              "    <div class=\"colab-df-container\">\n",
              "      <div>\n",
              "<style scoped>\n",
              "    .dataframe tbody tr th:only-of-type {\n",
              "        vertical-align: middle;\n",
              "    }\n",
              "\n",
              "    .dataframe tbody tr th {\n",
              "        vertical-align: top;\n",
              "    }\n",
              "\n",
              "    .dataframe thead th {\n",
              "        text-align: right;\n",
              "    }\n",
              "</style>\n",
              "<table border=\"1\" class=\"dataframe\">\n",
              "  <thead>\n",
              "    <tr style=\"text-align: right;\">\n",
              "      <th></th>\n",
              "      <th>Vehicle_Title</th>\n",
              "      <th>Unnamed: 1</th>\n",
              "      <th>Unnamed: 2</th>\n",
              "      <th>Unnamed: 3</th>\n",
              "      <th>Unnamed: 4</th>\n",
              "      <th>Review</th>\n",
              "      <th>Unnamed: 6</th>\n",
              "      <th>Unnamed: 7</th>\n",
              "    </tr>\n",
              "  </thead>\n",
              "  <tbody>\n",
              "    <tr>\n",
              "      <th>284682</th>\n",
              "      <td>1998 Toyota Celica Hatchback GT 2dr Hatchback</td>\n",
              "      <td>NaN</td>\n",
              "      <td>NaN</td>\n",
              "      <td>NaN</td>\n",
              "      <td>NaN</td>\n",
              "      <td>My wife fell in love with her first oneand sh...</td>\n",
              "      <td>NaN</td>\n",
              "      <td>NaN</td>\n",
              "    </tr>\n",
              "    <tr>\n",
              "      <th>284683</th>\n",
              "      <td>1998 Toyota Celica Hatchback GT 2dr Hatchback</td>\n",
              "      <td>NaN</td>\n",
              "      <td>NaN</td>\n",
              "      <td>NaN</td>\n",
              "      <td>NaN</td>\n",
              "      <td>No major problems with my 1998 Celica and its...</td>\n",
              "      <td>NaN</td>\n",
              "      <td>NaN</td>\n",
              "    </tr>\n",
              "    <tr>\n",
              "      <th>284684</th>\n",
              "      <td>1998 Toyota Celica Hatchback GT 2dr Hatchback</td>\n",
              "      <td>NaN</td>\n",
              "      <td>NaN</td>\n",
              "      <td>NaN</td>\n",
              "      <td>NaN</td>\n",
              "      <td>Great performance, never had a problem with t...</td>\n",
              "      <td>NaN</td>\n",
              "      <td>NaN</td>\n",
              "    </tr>\n",
              "    <tr>\n",
              "      <th>284685</th>\n",
              "      <td>1998 Toyota Celica Coupe GT 2dr Coupe</td>\n",
              "      <td>NaN</td>\n",
              "      <td>NaN</td>\n",
              "      <td>NaN</td>\n",
              "      <td>NaN</td>\n",
              "      <td>This is my fourth Celica and all have been gr...</td>\n",
              "      <td>NaN</td>\n",
              "      <td>NaN</td>\n",
              "    </tr>\n",
              "    <tr>\n",
              "      <th>284686</th>\n",
              "      <td>1999 Toyota Celica Convertible GT 2dr Convertible</td>\n",
              "      <td>NaN</td>\n",
              "      <td>NaN</td>\n",
              "      <td>NaN</td>\n",
              "      <td>NaN</td>\n",
              "      <td>Mine is a 99, the last year for the convertib...</td>\n",
              "      <td>NaN</td>\n",
              "      <td>NaN</td>\n",
              "    </tr>\n",
              "    <tr>\n",
              "      <th>284687</th>\n",
              "      <td>1999 Toyota Celica Convertible GT 2dr Convertible</td>\n",
              "      <td>NaN</td>\n",
              "      <td>NaN</td>\n",
              "      <td>NaN</td>\n",
              "      <td>NaN</td>\n",
              "      <td>Just picked this car up in early November.  V...</td>\n",
              "      <td>NaN</td>\n",
              "      <td>NaN</td>\n",
              "    </tr>\n",
              "    <tr>\n",
              "      <th>284688</th>\n",
              "      <td>1999 Toyota Celica Convertible GT 2dr Convertible</td>\n",
              "      <td>NaN</td>\n",
              "      <td>NaN</td>\n",
              "      <td>NaN</td>\n",
              "      <td>NaN</td>\n",
              "      <td>this car is amazing! the convertable is just ...</td>\n",
              "      <td>NaN</td>\n",
              "      <td>NaN</td>\n",
              "    </tr>\n",
              "    <tr>\n",
              "      <th>284689</th>\n",
              "      <td>1999 Toyota Celica Convertible GT 2dr Convertible</td>\n",
              "      <td>NaN</td>\n",
              "      <td>NaN</td>\n",
              "      <td>NaN</td>\n",
              "      <td>NaN</td>\n",
              "      <td>This car is awesome! The body styling (especi...</td>\n",
              "      <td>NaN</td>\n",
              "      <td>NaN</td>\n",
              "    </tr>\n",
              "    <tr>\n",
              "      <th>284690</th>\n",
              "      <td>1999 Toyota Celica Convertible GT 2dr Convertible</td>\n",
              "      <td>NaN</td>\n",
              "      <td>NaN</td>\n",
              "      <td>NaN</td>\n",
              "      <td>NaN</td>\n",
              "      <td>I love this car, it's fun to drive. I LOVE th...</td>\n",
              "      <td>NaN</td>\n",
              "      <td>NaN</td>\n",
              "    </tr>\n",
              "    <tr>\n",
              "      <th>284691</th>\n",
              "      <td>1999 Toyota Celica Convertible GT 2dr Convertible</td>\n",
              "      <td>NaN</td>\n",
              "      <td>NaN</td>\n",
              "      <td>NaN</td>\n",
              "      <td>NaN</td>\n",
              "      <td>I've had my Convertible Celica for almost 4 y...</td>\n",
              "      <td>NaN</td>\n",
              "      <td>NaN</td>\n",
              "    </tr>\n",
              "    <tr>\n",
              "      <th>284692</th>\n",
              "      <td>1999 Toyota Celica Hatchback GT 2dr Hatchback</td>\n",
              "      <td>NaN</td>\n",
              "      <td>NaN</td>\n",
              "      <td>NaN</td>\n",
              "      <td>NaN</td>\n",
              "      <td>Purchased this beauty silver Celica GT brand ...</td>\n",
              "      <td>NaN</td>\n",
              "      <td>NaN</td>\n",
              "    </tr>\n",
              "    <tr>\n",
              "      <th>284693</th>\n",
              "      <td>1999 Toyota Celica Hatchback GT 2dr Hatchback</td>\n",
              "      <td>NaN</td>\n",
              "      <td>NaN</td>\n",
              "      <td>NaN</td>\n",
              "      <td>NaN</td>\n",
              "      <td>I have always wanted a Celica. When I finally...</td>\n",
              "      <td>NaN</td>\n",
              "      <td>NaN</td>\n",
              "    </tr>\n",
              "    <tr>\n",
              "      <th>284694</th>\n",
              "      <td>1999 Toyota Celica Hatchback GT 2dr Hatchback</td>\n",
              "      <td>NaN</td>\n",
              "      <td>NaN</td>\n",
              "      <td>NaN</td>\n",
              "      <td>NaN</td>\n",
              "      <td>The Toyota Celica is a fantastic investment a...</td>\n",
              "      <td>NaN</td>\n",
              "      <td>NaN</td>\n",
              "    </tr>\n",
              "    <tr>\n",
              "      <th>284695</th>\n",
              "      <td>1999 Toyota Celica Hatchback GT 2dr Hatchback</td>\n",
              "      <td>NaN</td>\n",
              "      <td>NaN</td>\n",
              "      <td>NaN</td>\n",
              "      <td>NaN</td>\n",
              "      <td>I absolutely love this car!! I bought it abou...</td>\n",
              "      <td>NaN</td>\n",
              "      <td>NaN</td>\n",
              "    </tr>\n",
              "    <tr>\n",
              "      <th>284696</th>\n",
              "      <td>1999 Toyota Celica Hatchback GT 2dr Hatchback</td>\n",
              "      <td>NaN</td>\n",
              "      <td>NaN</td>\n",
              "      <td>NaN</td>\n",
              "      <td>NaN</td>\n",
              "      <td>I have had my car for a long time and Ihave o...</td>\n",
              "      <td>NaN</td>\n",
              "      <td>NaN</td>\n",
              "    </tr>\n",
              "    <tr>\n",
              "      <th>284697</th>\n",
              "      <td>1999 Toyota Celica Hatchback GT 2dr Hatchback</td>\n",
              "      <td>NaN</td>\n",
              "      <td>NaN</td>\n",
              "      <td>NaN</td>\n",
              "      <td>NaN</td>\n",
              "      <td>This is a very relaible car...and very</td>\n",
              "      <td>NaN</td>\n",
              "      <td>NaN</td>\n",
              "    </tr>\n",
              "    <tr>\n",
              "      <th>284704</th>\n",
              "      <td>1999 Toyota Celica Hatchback GT 2dr Hatchback</td>\n",
              "      <td>NaN</td>\n",
              "      <td>NaN</td>\n",
              "      <td>NaN</td>\n",
              "      <td>NaN</td>\n",
              "      <td>This is a first-rate car. I can be confident ...</td>\n",
              "      <td>NaN</td>\n",
              "      <td>NaN</td>\n",
              "    </tr>\n",
              "    <tr>\n",
              "      <th>284705</th>\n",
              "      <td>1999 Toyota Celica Hatchback GT 2dr Hatchback</td>\n",
              "      <td>NaN</td>\n",
              "      <td>NaN</td>\n",
              "      <td>NaN</td>\n",
              "      <td>NaN</td>\n",
              "      <td>After four years, this car has never had a me...</td>\n",
              "      <td>NaN</td>\n",
              "      <td>NaN</td>\n",
              "    </tr>\n",
              "    <tr>\n",
              "      <th>284706</th>\n",
              "      <td>1999 Toyota Celica Hatchback GT 2dr Hatchback</td>\n",
              "      <td>NaN</td>\n",
              "      <td>NaN</td>\n",
              "      <td>NaN</td>\n",
              "      <td>NaN</td>\n",
              "      <td>Overall I am happy with the '99 Celica GT.</td>\n",
              "      <td>NaN</td>\n",
              "      <td>NaN</td>\n",
              "    </tr>\n",
              "    <tr>\n",
              "      <th>284714</th>\n",
              "      <td>1999 Toyota Celica Hatchback GT 2dr Hatchback</td>\n",
              "      <td>NaN</td>\n",
              "      <td>NaN</td>\n",
              "      <td>NaN</td>\n",
              "      <td>NaN</td>\n",
              "      <td>I love my car. It is fun to drive, has great ...</td>\n",
              "      <td>NaN</td>\n",
              "      <td>NaN</td>\n",
              "    </tr>\n",
              "  </tbody>\n",
              "</table>\n",
              "</div>\n",
              "      <button class=\"colab-df-convert\" onclick=\"convertToInteractive('df-c90967f4-babf-47a0-ac1a-8647133887c0')\"\n",
              "              title=\"Convert this dataframe to an interactive table.\"\n",
              "              style=\"display:none;\">\n",
              "        \n",
              "  <svg xmlns=\"http://www.w3.org/2000/svg\" height=\"24px\"viewBox=\"0 0 24 24\"\n",
              "       width=\"24px\">\n",
              "    <path d=\"M0 0h24v24H0V0z\" fill=\"none\"/>\n",
              "    <path d=\"M18.56 5.44l.94 2.06.94-2.06 2.06-.94-2.06-.94-.94-2.06-.94 2.06-2.06.94zm-11 1L8.5 8.5l.94-2.06 2.06-.94-2.06-.94L8.5 2.5l-.94 2.06-2.06.94zm10 10l.94 2.06.94-2.06 2.06-.94-2.06-.94-.94-2.06-.94 2.06-2.06.94z\"/><path d=\"M17.41 7.96l-1.37-1.37c-.4-.4-.92-.59-1.43-.59-.52 0-1.04.2-1.43.59L10.3 9.45l-7.72 7.72c-.78.78-.78 2.05 0 2.83L4 21.41c.39.39.9.59 1.41.59.51 0 1.02-.2 1.41-.59l7.78-7.78 2.81-2.81c.8-.78.8-2.07 0-2.86zM5.41 20L4 18.59l7.72-7.72 1.47 1.35L5.41 20z\"/>\n",
              "  </svg>\n",
              "      </button>\n",
              "      \n",
              "  <style>\n",
              "    .colab-df-container {\n",
              "      display:flex;\n",
              "      flex-wrap:wrap;\n",
              "      gap: 12px;\n",
              "    }\n",
              "\n",
              "    .colab-df-convert {\n",
              "      background-color: #E8F0FE;\n",
              "      border: none;\n",
              "      border-radius: 50%;\n",
              "      cursor: pointer;\n",
              "      display: none;\n",
              "      fill: #1967D2;\n",
              "      height: 32px;\n",
              "      padding: 0 0 0 0;\n",
              "      width: 32px;\n",
              "    }\n",
              "\n",
              "    .colab-df-convert:hover {\n",
              "      background-color: #E2EBFA;\n",
              "      box-shadow: 0px 1px 2px rgba(60, 64, 67, 0.3), 0px 1px 3px 1px rgba(60, 64, 67, 0.15);\n",
              "      fill: #174EA6;\n",
              "    }\n",
              "\n",
              "    [theme=dark] .colab-df-convert {\n",
              "      background-color: #3B4455;\n",
              "      fill: #D2E3FC;\n",
              "    }\n",
              "\n",
              "    [theme=dark] .colab-df-convert:hover {\n",
              "      background-color: #434B5C;\n",
              "      box-shadow: 0px 1px 3px 1px rgba(0, 0, 0, 0.15);\n",
              "      filter: drop-shadow(0px 1px 2px rgba(0, 0, 0, 0.3));\n",
              "      fill: #FFFFFF;\n",
              "    }\n",
              "  </style>\n",
              "\n",
              "      <script>\n",
              "        const buttonEl =\n",
              "          document.querySelector('#df-c90967f4-babf-47a0-ac1a-8647133887c0 button.colab-df-convert');\n",
              "        buttonEl.style.display =\n",
              "          google.colab.kernel.accessAllowed ? 'block' : 'none';\n",
              "\n",
              "        async function convertToInteractive(key) {\n",
              "          const element = document.querySelector('#df-c90967f4-babf-47a0-ac1a-8647133887c0');\n",
              "          const dataTable =\n",
              "            await google.colab.kernel.invokeFunction('convertToInteractive',\n",
              "                                                     [key], {});\n",
              "          if (!dataTable) return;\n",
              "\n",
              "          const docLinkHtml = 'Like what you see? Visit the ' +\n",
              "            '<a target=\"_blank\" href=https://colab.research.google.com/notebooks/data_table.ipynb>data table notebook</a>'\n",
              "            + ' to learn more about interactive tables.';\n",
              "          element.innerHTML = '';\n",
              "          dataTable['output_type'] = 'display_data';\n",
              "          await google.colab.output.renderOutput(dataTable, element);\n",
              "          const docLink = document.createElement('div');\n",
              "          docLink.innerHTML = docLinkHtml;\n",
              "          element.appendChild(docLink);\n",
              "        }\n",
              "      </script>\n",
              "    </div>\n",
              "  </div>\n",
              "  "
            ],
            "text/plain": [
              "                                            Vehicle_Title  ...  Unnamed: 7\n",
              "284682      1998 Toyota Celica Hatchback GT 2dr Hatchback  ...         NaN\n",
              "284683      1998 Toyota Celica Hatchback GT 2dr Hatchback  ...         NaN\n",
              "284684      1998 Toyota Celica Hatchback GT 2dr Hatchback  ...         NaN\n",
              "284685              1998 Toyota Celica Coupe GT 2dr Coupe  ...         NaN\n",
              "284686  1999 Toyota Celica Convertible GT 2dr Convertible  ...         NaN\n",
              "284687  1999 Toyota Celica Convertible GT 2dr Convertible  ...         NaN\n",
              "284688  1999 Toyota Celica Convertible GT 2dr Convertible  ...         NaN\n",
              "284689  1999 Toyota Celica Convertible GT 2dr Convertible  ...         NaN\n",
              "284690  1999 Toyota Celica Convertible GT 2dr Convertible  ...         NaN\n",
              "284691  1999 Toyota Celica Convertible GT 2dr Convertible  ...         NaN\n",
              "284692      1999 Toyota Celica Hatchback GT 2dr Hatchback  ...         NaN\n",
              "284693      1999 Toyota Celica Hatchback GT 2dr Hatchback  ...         NaN\n",
              "284694      1999 Toyota Celica Hatchback GT 2dr Hatchback  ...         NaN\n",
              "284695      1999 Toyota Celica Hatchback GT 2dr Hatchback  ...         NaN\n",
              "284696      1999 Toyota Celica Hatchback GT 2dr Hatchback  ...         NaN\n",
              "284697      1999 Toyota Celica Hatchback GT 2dr Hatchback  ...         NaN\n",
              "284704      1999 Toyota Celica Hatchback GT 2dr Hatchback  ...         NaN\n",
              "284705      1999 Toyota Celica Hatchback GT 2dr Hatchback  ...         NaN\n",
              "284706      1999 Toyota Celica Hatchback GT 2dr Hatchback  ...         NaN\n",
              "284714      1999 Toyota Celica Hatchback GT 2dr Hatchback  ...         NaN\n",
              "\n",
              "[20 rows x 8 columns]"
            ]
          },
          "metadata": {},
          "execution_count": 46
        }
      ]
    },
    {
      "cell_type": "markdown",
      "metadata": {
        "id": "82xFrVF4av5X"
      },
      "source": [
        "Vectorizing the reviews"
      ]
    },
    {
      "cell_type": "code",
      "metadata": {
        "id": "i1gRkXbXy4hZ",
        "outputId": "b85aa956-00a0-49b1-afcd-500df666920a",
        "colab": {
          "base_uri": "https://localhost:8080/",
          "height": 415
        }
      },
      "source": [
        "from textblob import TextBlob\n",
        "\n",
        "def getSubjectivity(Review):\n",
        "    return TextBlob(Review).sentiment.subjectivity\n",
        "\n",
        "def getPolarity(Review):\n",
        "    return TextBlob(Review).sentiment.polarity\n",
        "\n",
        "#def getFilteredText(text):\n",
        "#    text= cleanText(text);\n",
        "#    return text\n",
        "\n",
        "df['Subjectivity']=df['Review'].apply(getSubjectivity)\n",
        "df['NewPolarity']=df['Review'].apply(getPolarity)\n",
        "#df['CleanedText']=df['text'].apply(getFilteredText)"
      ],
      "execution_count": 50,
      "outputs": [
        {
          "output_type": "error",
          "ename": "TypeError",
          "evalue": "ignored",
          "traceback": [
            "\u001b[0;31m---------------------------------------------------------------------------\u001b[0m",
            "\u001b[0;31mTypeError\u001b[0m                                 Traceback (most recent call last)",
            "\u001b[0;32m<ipython-input-50-e85e57ce87d5>\u001b[0m in \u001b[0;36m<module>\u001b[0;34m()\u001b[0m\n\u001b[1;32m     11\u001b[0m \u001b[0;31m#    return text\u001b[0m\u001b[0;34m\u001b[0m\u001b[0;34m\u001b[0m\u001b[0;34m\u001b[0m\u001b[0m\n\u001b[1;32m     12\u001b[0m \u001b[0;34m\u001b[0m\u001b[0m\n\u001b[0;32m---> 13\u001b[0;31m \u001b[0mdf\u001b[0m\u001b[0;34m[\u001b[0m\u001b[0;34m'Subjectivity'\u001b[0m\u001b[0;34m]\u001b[0m\u001b[0;34m=\u001b[0m\u001b[0mdf\u001b[0m\u001b[0;34m[\u001b[0m\u001b[0;34m'Review'\u001b[0m\u001b[0;34m]\u001b[0m\u001b[0;34m.\u001b[0m\u001b[0mapply\u001b[0m\u001b[0;34m(\u001b[0m\u001b[0mgetSubjectivity\u001b[0m\u001b[0;34m)\u001b[0m\u001b[0;34m\u001b[0m\u001b[0;34m\u001b[0m\u001b[0m\n\u001b[0m\u001b[1;32m     14\u001b[0m \u001b[0mdf\u001b[0m\u001b[0;34m[\u001b[0m\u001b[0;34m'NewPolarity'\u001b[0m\u001b[0;34m]\u001b[0m\u001b[0;34m=\u001b[0m\u001b[0mdf\u001b[0m\u001b[0;34m[\u001b[0m\u001b[0;34m'Review'\u001b[0m\u001b[0;34m]\u001b[0m\u001b[0;34m.\u001b[0m\u001b[0mapply\u001b[0m\u001b[0;34m(\u001b[0m\u001b[0mgetPolarity\u001b[0m\u001b[0;34m)\u001b[0m\u001b[0;34m\u001b[0m\u001b[0;34m\u001b[0m\u001b[0m\n\u001b[1;32m     15\u001b[0m \u001b[0;31m#df['CleanedText']=df['text'].apply(getFilteredText)\u001b[0m\u001b[0;34m\u001b[0m\u001b[0;34m\u001b[0m\u001b[0;34m\u001b[0m\u001b[0m\n",
            "\u001b[0;32m/usr/local/lib/python3.7/dist-packages/pandas/core/series.py\u001b[0m in \u001b[0;36mapply\u001b[0;34m(self, func, convert_dtype, args, **kwds)\u001b[0m\n\u001b[1;32m   4211\u001b[0m             \u001b[0;32melse\u001b[0m\u001b[0;34m:\u001b[0m\u001b[0;34m\u001b[0m\u001b[0;34m\u001b[0m\u001b[0m\n\u001b[1;32m   4212\u001b[0m                 \u001b[0mvalues\u001b[0m \u001b[0;34m=\u001b[0m \u001b[0mself\u001b[0m\u001b[0;34m.\u001b[0m\u001b[0mastype\u001b[0m\u001b[0;34m(\u001b[0m\u001b[0mobject\u001b[0m\u001b[0;34m)\u001b[0m\u001b[0;34m.\u001b[0m\u001b[0m_values\u001b[0m\u001b[0;34m\u001b[0m\u001b[0;34m\u001b[0m\u001b[0m\n\u001b[0;32m-> 4213\u001b[0;31m                 \u001b[0mmapped\u001b[0m \u001b[0;34m=\u001b[0m \u001b[0mlib\u001b[0m\u001b[0;34m.\u001b[0m\u001b[0mmap_infer\u001b[0m\u001b[0;34m(\u001b[0m\u001b[0mvalues\u001b[0m\u001b[0;34m,\u001b[0m \u001b[0mf\u001b[0m\u001b[0;34m,\u001b[0m \u001b[0mconvert\u001b[0m\u001b[0;34m=\u001b[0m\u001b[0mconvert_dtype\u001b[0m\u001b[0;34m)\u001b[0m\u001b[0;34m\u001b[0m\u001b[0;34m\u001b[0m\u001b[0m\n\u001b[0m\u001b[1;32m   4214\u001b[0m \u001b[0;34m\u001b[0m\u001b[0m\n\u001b[1;32m   4215\u001b[0m         \u001b[0;32mif\u001b[0m \u001b[0mlen\u001b[0m\u001b[0;34m(\u001b[0m\u001b[0mmapped\u001b[0m\u001b[0;34m)\u001b[0m \u001b[0;32mand\u001b[0m \u001b[0misinstance\u001b[0m\u001b[0;34m(\u001b[0m\u001b[0mmapped\u001b[0m\u001b[0;34m[\u001b[0m\u001b[0;36m0\u001b[0m\u001b[0;34m]\u001b[0m\u001b[0;34m,\u001b[0m \u001b[0mSeries\u001b[0m\u001b[0;34m)\u001b[0m\u001b[0;34m:\u001b[0m\u001b[0;34m\u001b[0m\u001b[0;34m\u001b[0m\u001b[0m\n",
            "\u001b[0;32mpandas/_libs/lib.pyx\u001b[0m in \u001b[0;36mpandas._libs.lib.map_infer\u001b[0;34m()\u001b[0m\n",
            "\u001b[0;32m<ipython-input-50-e85e57ce87d5>\u001b[0m in \u001b[0;36mgetSubjectivity\u001b[0;34m(Review)\u001b[0m\n\u001b[1;32m      2\u001b[0m \u001b[0;34m\u001b[0m\u001b[0m\n\u001b[1;32m      3\u001b[0m \u001b[0;32mdef\u001b[0m \u001b[0mgetSubjectivity\u001b[0m\u001b[0;34m(\u001b[0m\u001b[0mReview\u001b[0m\u001b[0;34m)\u001b[0m\u001b[0;34m:\u001b[0m\u001b[0;34m\u001b[0m\u001b[0;34m\u001b[0m\u001b[0m\n\u001b[0;32m----> 4\u001b[0;31m     \u001b[0;32mreturn\u001b[0m \u001b[0mTextBlob\u001b[0m\u001b[0;34m(\u001b[0m\u001b[0mReview\u001b[0m\u001b[0;34m)\u001b[0m\u001b[0;34m.\u001b[0m\u001b[0msentiment\u001b[0m\u001b[0;34m.\u001b[0m\u001b[0msubjectivity\u001b[0m\u001b[0;34m\u001b[0m\u001b[0;34m\u001b[0m\u001b[0m\n\u001b[0m\u001b[1;32m      5\u001b[0m \u001b[0;34m\u001b[0m\u001b[0m\n\u001b[1;32m      6\u001b[0m \u001b[0;32mdef\u001b[0m \u001b[0mgetPolarity\u001b[0m\u001b[0;34m(\u001b[0m\u001b[0mReview\u001b[0m\u001b[0;34m)\u001b[0m\u001b[0;34m:\u001b[0m\u001b[0;34m\u001b[0m\u001b[0;34m\u001b[0m\u001b[0m\n",
            "\u001b[0;32m/usr/local/lib/python3.7/dist-packages/textblob/blob.py\u001b[0m in \u001b[0;36m__init__\u001b[0;34m(self, text, tokenizer, pos_tagger, np_extractor, analyzer, parser, classifier, clean_html)\u001b[0m\n\u001b[1;32m    368\u001b[0m         \u001b[0;32mif\u001b[0m \u001b[0;32mnot\u001b[0m \u001b[0misinstance\u001b[0m\u001b[0;34m(\u001b[0m\u001b[0mtext\u001b[0m\u001b[0;34m,\u001b[0m \u001b[0mbasestring\u001b[0m\u001b[0;34m)\u001b[0m\u001b[0;34m:\u001b[0m\u001b[0;34m\u001b[0m\u001b[0;34m\u001b[0m\u001b[0m\n\u001b[1;32m    369\u001b[0m             raise TypeError('The `text` argument passed to `__init__(text)` '\n\u001b[0;32m--> 370\u001b[0;31m                             'must be a string, not {0}'.format(type(text)))\n\u001b[0m\u001b[1;32m    371\u001b[0m         \u001b[0;32mif\u001b[0m \u001b[0mclean_html\u001b[0m\u001b[0;34m:\u001b[0m\u001b[0;34m\u001b[0m\u001b[0;34m\u001b[0m\u001b[0m\n\u001b[1;32m    372\u001b[0m             raise NotImplementedError(\"clean_html has been deprecated. \"\n",
            "\u001b[0;31mTypeError\u001b[0m: The `text` argument passed to `__init__(text)` must be a string, not <class 'float'>"
          ]
        }
      ]
    },
    {
      "cell_type": "markdown",
      "metadata": {
        "id": "WcuLa6iIa5yU"
      },
      "source": [
        "Generating the wordcloud after text filtering"
      ]
    },
    {
      "cell_type": "code",
      "metadata": {
        "colab": {
          "base_uri": "https://localhost:8080/",
          "height": 235
        },
        "id": "M9QTh3MxSBFz",
        "outputId": "75311d97-0ade-4f7e-8823-106ba259993b"
      },
      "source": [
        "#Plot a word cloud \n",
        "from wordcloud import WordCloud\n",
        "import tweepy\n",
        "import numpy as np\n",
        "import matplotlib.pyplot as plt\n",
        "plt.style.use('fivethirtyeight')\n",
        "\n",
        "restricted=['YOUTUBE','SUBSCRIBE','CHECK','twitch','New', 'video','Follow','Comment']+stopwords.words('english')\n",
        "\n",
        "allWords = ' '.join( [twts for twts in df['Review']])\n",
        "wordCloud = WordCloud( width = 300, height= 300, random_state = 21, max_font_size = 119, stopwords=restricted).generate(allWords)\n",
        "\n",
        "plt.imshow(wordCloud, interpolation = \"bilinear\")\n",
        "plt.axis('off')\n",
        "plt.show()"
      ],
      "execution_count": 51,
      "outputs": [
        {
          "output_type": "error",
          "ename": "TypeError",
          "evalue": "ignored",
          "traceback": [
            "\u001b[0;31m---------------------------------------------------------------------------\u001b[0m",
            "\u001b[0;31mTypeError\u001b[0m                                 Traceback (most recent call last)",
            "\u001b[0;32m<ipython-input-51-008f20e51f7a>\u001b[0m in \u001b[0;36m<module>\u001b[0;34m()\u001b[0m\n\u001b[1;32m      8\u001b[0m \u001b[0mrestricted\u001b[0m\u001b[0;34m=\u001b[0m\u001b[0;34m[\u001b[0m\u001b[0;34m'YOUTUBE'\u001b[0m\u001b[0;34m,\u001b[0m\u001b[0;34m'SUBSCRIBE'\u001b[0m\u001b[0;34m,\u001b[0m\u001b[0;34m'CHECK'\u001b[0m\u001b[0;34m,\u001b[0m\u001b[0;34m'twitch'\u001b[0m\u001b[0;34m,\u001b[0m\u001b[0;34m'New'\u001b[0m\u001b[0;34m,\u001b[0m \u001b[0;34m'video'\u001b[0m\u001b[0;34m,\u001b[0m\u001b[0;34m'Follow'\u001b[0m\u001b[0;34m,\u001b[0m\u001b[0;34m'Comment'\u001b[0m\u001b[0;34m]\u001b[0m\u001b[0;34m+\u001b[0m\u001b[0mstopwords\u001b[0m\u001b[0;34m.\u001b[0m\u001b[0mwords\u001b[0m\u001b[0;34m(\u001b[0m\u001b[0;34m'english'\u001b[0m\u001b[0;34m)\u001b[0m\u001b[0;34m\u001b[0m\u001b[0;34m\u001b[0m\u001b[0m\n\u001b[1;32m      9\u001b[0m \u001b[0;34m\u001b[0m\u001b[0m\n\u001b[0;32m---> 10\u001b[0;31m \u001b[0mallWords\u001b[0m \u001b[0;34m=\u001b[0m \u001b[0;34m' '\u001b[0m\u001b[0;34m.\u001b[0m\u001b[0mjoin\u001b[0m\u001b[0;34m(\u001b[0m \u001b[0;34m[\u001b[0m\u001b[0mtwts\u001b[0m \u001b[0;32mfor\u001b[0m \u001b[0mtwts\u001b[0m \u001b[0;32min\u001b[0m \u001b[0mdf\u001b[0m\u001b[0;34m[\u001b[0m\u001b[0;34m'Review'\u001b[0m\u001b[0;34m]\u001b[0m\u001b[0;34m]\u001b[0m\u001b[0;34m)\u001b[0m\u001b[0;34m\u001b[0m\u001b[0;34m\u001b[0m\u001b[0m\n\u001b[0m\u001b[1;32m     11\u001b[0m \u001b[0mwordCloud\u001b[0m \u001b[0;34m=\u001b[0m \u001b[0mWordCloud\u001b[0m\u001b[0;34m(\u001b[0m \u001b[0mwidth\u001b[0m \u001b[0;34m=\u001b[0m \u001b[0;36m300\u001b[0m\u001b[0;34m,\u001b[0m \u001b[0mheight\u001b[0m\u001b[0;34m=\u001b[0m \u001b[0;36m300\u001b[0m\u001b[0;34m,\u001b[0m \u001b[0mrandom_state\u001b[0m \u001b[0;34m=\u001b[0m \u001b[0;36m21\u001b[0m\u001b[0;34m,\u001b[0m \u001b[0mmax_font_size\u001b[0m \u001b[0;34m=\u001b[0m \u001b[0;36m119\u001b[0m\u001b[0;34m,\u001b[0m \u001b[0mstopwords\u001b[0m\u001b[0;34m=\u001b[0m\u001b[0mrestricted\u001b[0m\u001b[0;34m)\u001b[0m\u001b[0;34m.\u001b[0m\u001b[0mgenerate\u001b[0m\u001b[0;34m(\u001b[0m\u001b[0mallWords\u001b[0m\u001b[0;34m)\u001b[0m\u001b[0;34m\u001b[0m\u001b[0;34m\u001b[0m\u001b[0m\n\u001b[1;32m     12\u001b[0m \u001b[0;34m\u001b[0m\u001b[0m\n",
            "\u001b[0;31mTypeError\u001b[0m: sequence item 106: expected str instance, float found"
          ]
        }
      ]
    },
    {
      "cell_type": "markdown",
      "metadata": {
        "id": "5XlrHiGkbAYf"
      },
      "source": [
        "Generating the analysis (Negative, Positive, Neutral)"
      ]
    },
    {
      "cell_type": "code",
      "metadata": {
        "id": "yokx5IWITwGB",
        "outputId": "dc268be3-11ae-45bc-e756-41fa041f6e89",
        "colab": {
          "base_uri": "https://localhost:8080/",
          "height": 571
        }
      },
      "source": [
        "#Create a function to compute positive, negative or neutral text\n",
        "\n",
        "def getAnalysis(score):\n",
        " if score < 0:\n",
        "  return 'Negative'\n",
        " elif score == 0:\n",
        "  return 'Neutral'\n",
        " else:\n",
        "  return 'Positive'\n",
        "\n",
        "df['Analysis']= df['NewPolarity'].apply(getAnalysis)\n"
      ],
      "execution_count": 52,
      "outputs": [
        {
          "output_type": "error",
          "ename": "KeyError",
          "evalue": "ignored",
          "traceback": [
            "\u001b[0;31m---------------------------------------------------------------------------\u001b[0m",
            "\u001b[0;31mKeyError\u001b[0m                                  Traceback (most recent call last)",
            "\u001b[0;32m/usr/local/lib/python3.7/dist-packages/pandas/core/indexes/base.py\u001b[0m in \u001b[0;36mget_loc\u001b[0;34m(self, key, method, tolerance)\u001b[0m\n\u001b[1;32m   2897\u001b[0m             \u001b[0;32mtry\u001b[0m\u001b[0;34m:\u001b[0m\u001b[0;34m\u001b[0m\u001b[0;34m\u001b[0m\u001b[0m\n\u001b[0;32m-> 2898\u001b[0;31m                 \u001b[0;32mreturn\u001b[0m \u001b[0mself\u001b[0m\u001b[0;34m.\u001b[0m\u001b[0m_engine\u001b[0m\u001b[0;34m.\u001b[0m\u001b[0mget_loc\u001b[0m\u001b[0;34m(\u001b[0m\u001b[0mcasted_key\u001b[0m\u001b[0;34m)\u001b[0m\u001b[0;34m\u001b[0m\u001b[0;34m\u001b[0m\u001b[0m\n\u001b[0m\u001b[1;32m   2899\u001b[0m             \u001b[0;32mexcept\u001b[0m \u001b[0mKeyError\u001b[0m \u001b[0;32mas\u001b[0m \u001b[0merr\u001b[0m\u001b[0;34m:\u001b[0m\u001b[0;34m\u001b[0m\u001b[0;34m\u001b[0m\u001b[0m\n",
            "\u001b[0;32mpandas/_libs/index.pyx\u001b[0m in \u001b[0;36mpandas._libs.index.IndexEngine.get_loc\u001b[0;34m()\u001b[0m\n",
            "\u001b[0;32mpandas/_libs/index.pyx\u001b[0m in \u001b[0;36mpandas._libs.index.IndexEngine.get_loc\u001b[0;34m()\u001b[0m\n",
            "\u001b[0;32mpandas/_libs/hashtable_class_helper.pxi\u001b[0m in \u001b[0;36mpandas._libs.hashtable.PyObjectHashTable.get_item\u001b[0;34m()\u001b[0m\n",
            "\u001b[0;32mpandas/_libs/hashtable_class_helper.pxi\u001b[0m in \u001b[0;36mpandas._libs.hashtable.PyObjectHashTable.get_item\u001b[0;34m()\u001b[0m\n",
            "\u001b[0;31mKeyError\u001b[0m: 'NewPolarity'",
            "\nThe above exception was the direct cause of the following exception:\n",
            "\u001b[0;31mKeyError\u001b[0m                                  Traceback (most recent call last)",
            "\u001b[0;32m<ipython-input-52-8267f6b6bc0c>\u001b[0m in \u001b[0;36m<module>\u001b[0;34m()\u001b[0m\n\u001b[1;32m      9\u001b[0m   \u001b[0;32mreturn\u001b[0m \u001b[0;34m'Positive'\u001b[0m\u001b[0;34m\u001b[0m\u001b[0;34m\u001b[0m\u001b[0m\n\u001b[1;32m     10\u001b[0m \u001b[0;34m\u001b[0m\u001b[0m\n\u001b[0;32m---> 11\u001b[0;31m \u001b[0mdf\u001b[0m\u001b[0;34m[\u001b[0m\u001b[0;34m'Analysis'\u001b[0m\u001b[0;34m]\u001b[0m\u001b[0;34m=\u001b[0m \u001b[0mdf\u001b[0m\u001b[0;34m[\u001b[0m\u001b[0;34m'NewPolarity'\u001b[0m\u001b[0;34m]\u001b[0m\u001b[0;34m.\u001b[0m\u001b[0mapply\u001b[0m\u001b[0;34m(\u001b[0m\u001b[0mgetAnalysis\u001b[0m\u001b[0;34m)\u001b[0m\u001b[0;34m\u001b[0m\u001b[0;34m\u001b[0m\u001b[0m\n\u001b[0m",
            "\u001b[0;32m/usr/local/lib/python3.7/dist-packages/pandas/core/frame.py\u001b[0m in \u001b[0;36m__getitem__\u001b[0;34m(self, key)\u001b[0m\n\u001b[1;32m   2904\u001b[0m             \u001b[0;32mif\u001b[0m \u001b[0mself\u001b[0m\u001b[0;34m.\u001b[0m\u001b[0mcolumns\u001b[0m\u001b[0;34m.\u001b[0m\u001b[0mnlevels\u001b[0m \u001b[0;34m>\u001b[0m \u001b[0;36m1\u001b[0m\u001b[0;34m:\u001b[0m\u001b[0;34m\u001b[0m\u001b[0;34m\u001b[0m\u001b[0m\n\u001b[1;32m   2905\u001b[0m                 \u001b[0;32mreturn\u001b[0m \u001b[0mself\u001b[0m\u001b[0;34m.\u001b[0m\u001b[0m_getitem_multilevel\u001b[0m\u001b[0;34m(\u001b[0m\u001b[0mkey\u001b[0m\u001b[0;34m)\u001b[0m\u001b[0;34m\u001b[0m\u001b[0;34m\u001b[0m\u001b[0m\n\u001b[0;32m-> 2906\u001b[0;31m             \u001b[0mindexer\u001b[0m \u001b[0;34m=\u001b[0m \u001b[0mself\u001b[0m\u001b[0;34m.\u001b[0m\u001b[0mcolumns\u001b[0m\u001b[0;34m.\u001b[0m\u001b[0mget_loc\u001b[0m\u001b[0;34m(\u001b[0m\u001b[0mkey\u001b[0m\u001b[0;34m)\u001b[0m\u001b[0;34m\u001b[0m\u001b[0;34m\u001b[0m\u001b[0m\n\u001b[0m\u001b[1;32m   2907\u001b[0m             \u001b[0;32mif\u001b[0m \u001b[0mis_integer\u001b[0m\u001b[0;34m(\u001b[0m\u001b[0mindexer\u001b[0m\u001b[0;34m)\u001b[0m\u001b[0;34m:\u001b[0m\u001b[0;34m\u001b[0m\u001b[0;34m\u001b[0m\u001b[0m\n\u001b[1;32m   2908\u001b[0m                 \u001b[0mindexer\u001b[0m \u001b[0;34m=\u001b[0m \u001b[0;34m[\u001b[0m\u001b[0mindexer\u001b[0m\u001b[0;34m]\u001b[0m\u001b[0;34m\u001b[0m\u001b[0;34m\u001b[0m\u001b[0m\n",
            "\u001b[0;32m/usr/local/lib/python3.7/dist-packages/pandas/core/indexes/base.py\u001b[0m in \u001b[0;36mget_loc\u001b[0;34m(self, key, method, tolerance)\u001b[0m\n\u001b[1;32m   2898\u001b[0m                 \u001b[0;32mreturn\u001b[0m \u001b[0mself\u001b[0m\u001b[0;34m.\u001b[0m\u001b[0m_engine\u001b[0m\u001b[0;34m.\u001b[0m\u001b[0mget_loc\u001b[0m\u001b[0;34m(\u001b[0m\u001b[0mcasted_key\u001b[0m\u001b[0;34m)\u001b[0m\u001b[0;34m\u001b[0m\u001b[0;34m\u001b[0m\u001b[0m\n\u001b[1;32m   2899\u001b[0m             \u001b[0;32mexcept\u001b[0m \u001b[0mKeyError\u001b[0m \u001b[0;32mas\u001b[0m \u001b[0merr\u001b[0m\u001b[0;34m:\u001b[0m\u001b[0;34m\u001b[0m\u001b[0;34m\u001b[0m\u001b[0m\n\u001b[0;32m-> 2900\u001b[0;31m                 \u001b[0;32mraise\u001b[0m \u001b[0mKeyError\u001b[0m\u001b[0;34m(\u001b[0m\u001b[0mkey\u001b[0m\u001b[0;34m)\u001b[0m \u001b[0;32mfrom\u001b[0m \u001b[0merr\u001b[0m\u001b[0;34m\u001b[0m\u001b[0;34m\u001b[0m\u001b[0m\n\u001b[0m\u001b[1;32m   2901\u001b[0m \u001b[0;34m\u001b[0m\u001b[0m\n\u001b[1;32m   2902\u001b[0m         \u001b[0;32mif\u001b[0m \u001b[0mtolerance\u001b[0m \u001b[0;32mis\u001b[0m \u001b[0;32mnot\u001b[0m \u001b[0;32mNone\u001b[0m\u001b[0;34m:\u001b[0m\u001b[0;34m\u001b[0m\u001b[0;34m\u001b[0m\u001b[0m\n",
            "\u001b[0;31mKeyError\u001b[0m: 'NewPolarity'"
          ]
        }
      ]
    },
    {
      "cell_type": "code",
      "metadata": {
        "colab": {
          "base_uri": "https://localhost:8080/",
          "height": 1000
        },
        "id": "z5KMIn20TwNv",
        "outputId": "fbc4eff5-0f77-4924-ee5c-c30d92806c24"
      },
      "source": [
        "df[['file_name', 'text', 'Subjectivity', 'NewPolarity','Analysis']].head(50)\n"
      ],
      "execution_count": null,
      "outputs": [
        {
          "output_type": "execute_result",
          "data": {
            "text/html": [
              "<div>\n",
              "<style scoped>\n",
              "    .dataframe tbody tr th:only-of-type {\n",
              "        vertical-align: middle;\n",
              "    }\n",
              "\n",
              "    .dataframe tbody tr th {\n",
              "        vertical-align: top;\n",
              "    }\n",
              "\n",
              "    .dataframe thead th {\n",
              "        text-align: right;\n",
              "    }\n",
              "</style>\n",
              "<table border=\"1\" class=\"dataframe\">\n",
              "  <thead>\n",
              "    <tr style=\"text-align: right;\">\n",
              "      <th></th>\n",
              "      <th>file_name</th>\n",
              "      <th>text</th>\n",
              "      <th>Subjectivity</th>\n",
              "      <th>NewPolarity</th>\n",
              "      <th>Analysis</th>\n",
              "    </tr>\n",
              "  </thead>\n",
              "  <tbody>\n",
              "    <tr>\n",
              "      <th>0</th>\n",
              "      <td>Nvidia</td>\n",
              "      <td>NVIDIA GauGAN is actually a good tool to pract...</td>\n",
              "      <td>0.600000</td>\n",
              "      <td>0.700000</td>\n",
              "      <td>Positive</td>\n",
              "    </tr>\n",
              "    <tr>\n",
              "      <th>1</th>\n",
              "      <td>Nvidia</td>\n",
              "      <td>BullSequana X2415, the first supercomputer bla...</td>\n",
              "      <td>0.277778</td>\n",
              "      <td>0.250000</td>\n",
              "      <td>Positive</td>\n",
              "    </tr>\n",
              "    <tr>\n",
              "      <th>2</th>\n",
              "      <td>Nvidia</td>\n",
              "      <td>I'm going to attend GTC 2020 tonight! Excited....</td>\n",
              "      <td>0.750000</td>\n",
              "      <td>0.375000</td>\n",
              "      <td>Positive</td>\n",
              "    </tr>\n",
              "    <tr>\n",
              "      <th>3</th>\n",
              "      <td>Nvidia</td>\n",
              "      <td>NVIDIA delays launch of GeForce RTX 3070 until...</td>\n",
              "      <td>0.000000</td>\n",
              "      <td>0.000000</td>\n",
              "      <td>Neutral</td>\n",
              "    </tr>\n",
              "    <tr>\n",
              "      <th>6</th>\n",
              "      <td>Nvidia</td>\n",
              "      <td>Today, don’t miss the World’s largest AI confe...</td>\n",
              "      <td>0.000000</td>\n",
              "      <td>0.000000</td>\n",
              "      <td>Neutral</td>\n",
              "    </tr>\n",
              "    <tr>\n",
              "      <th>9</th>\n",
              "      <td>Nvidia</td>\n",
              "      <td>NVIDIA GeForce RTX 30 Series – Top Facts &amp;amp;...</td>\n",
              "      <td>0.633333</td>\n",
              "      <td>0.033333</td>\n",
              "      <td>Positive</td>\n",
              "    </tr>\n",
              "    <tr>\n",
              "      <th>10</th>\n",
              "      <td>Nvidia</td>\n",
              "      <td>In a bizarre twist to this already highly co...</td>\n",
              "      <td>0.550649</td>\n",
              "      <td>0.090909</td>\n",
              "      <td>Positive</td>\n",
              "    </tr>\n",
              "    <tr>\n",
              "      <th>11</th>\n",
              "      <td>Nvidia</td>\n",
              "      <td>PhotoModeMonday  MAN'S ROAD ☁️      TheWitche...</td>\n",
              "      <td>0.000000</td>\n",
              "      <td>0.000000</td>\n",
              "      <td>Neutral</td>\n",
              "    </tr>\n",
              "    <tr>\n",
              "      <th>12</th>\n",
              "      <td>Nvidia</td>\n",
              "      <td>Hardware Utilization of VividSparks Products. ...</td>\n",
              "      <td>0.000000</td>\n",
              "      <td>0.000000</td>\n",
              "      <td>Neutral</td>\n",
              "    </tr>\n",
              "    <tr>\n",
              "      <th>13</th>\n",
              "      <td>Nvidia</td>\n",
              "      <td>Some news: The nvidia RTX 3070 has been delaye...</td>\n",
              "      <td>0.625000</td>\n",
              "      <td>0.437500</td>\n",
              "      <td>Positive</td>\n",
              "    </tr>\n",
              "    <tr>\n",
              "      <th>14</th>\n",
              "      <td>Nvidia</td>\n",
              "      <td>Hello everyone! I am excited to announce that ...</td>\n",
              "      <td>0.750000</td>\n",
              "      <td>0.468750</td>\n",
              "      <td>Positive</td>\n",
              "    </tr>\n",
              "    <tr>\n",
              "      <th>17</th>\n",
              "      <td>Nvidia</td>\n",
              "      <td>Analytics Drift will be covering the NVIDIA GT...</td>\n",
              "      <td>0.300000</td>\n",
              "      <td>1.000000</td>\n",
              "      <td>Positive</td>\n",
              "    </tr>\n",
              "    <tr>\n",
              "      <th>19</th>\n",
              "      <td>Nvidia</td>\n",
              "      <td>So nvidia broadcast is like, the raddest thing...</td>\n",
              "      <td>0.850000</td>\n",
              "      <td>-0.500000</td>\n",
              "      <td>Negative</td>\n",
              "    </tr>\n",
              "    <tr>\n",
              "      <th>20</th>\n",
              "      <td>Nvidia</td>\n",
              "      <td>StradVision has been selected as the top AI st...</td>\n",
              "      <td>0.633333</td>\n",
              "      <td>0.541667</td>\n",
              "      <td>Positive</td>\n",
              "    </tr>\n",
              "    <tr>\n",
              "      <th>21</th>\n",
              "      <td>Nvidia</td>\n",
              "      <td>ff  kick   ass!!!!!!! I was going to buy tw...</td>\n",
              "      <td>0.333333</td>\n",
              "      <td>-0.333333</td>\n",
              "      <td>Negative</td>\n",
              "    </tr>\n",
              "    <tr>\n",
              "      <th>22</th>\n",
              "      <td>Nvidia</td>\n",
              "      <td>Ryzen 9 3900X/ RX 5700 XT/ 32 GB OF RAM. Start...</td>\n",
              "      <td>0.533333</td>\n",
              "      <td>0.275000</td>\n",
              "      <td>Positive</td>\n",
              "    </tr>\n",
              "    <tr>\n",
              "      <th>23</th>\n",
              "      <td>Nvidia</td>\n",
              "      <td>Fight With NVIDIA! AMD’s New Flagship Card Cor...</td>\n",
              "      <td>0.393939</td>\n",
              "      <td>0.193182</td>\n",
              "      <td>Positive</td>\n",
              "    </tr>\n",
              "    <tr>\n",
              "      <th>24</th>\n",
              "      <td>Nvidia</td>\n",
              "      <td>Hi All, Please find Security Chronicle's Weekl...</td>\n",
              "      <td>0.000000</td>\n",
              "      <td>0.000000</td>\n",
              "      <td>Neutral</td>\n",
              "    </tr>\n",
              "    <tr>\n",
              "      <th>25</th>\n",
              "      <td>Nvidia</td>\n",
              "      <td>Imaginaire comprises of optimized implementati...</td>\n",
              "      <td>0.000000</td>\n",
              "      <td>0.000000</td>\n",
              "      <td>Neutral</td>\n",
              "    </tr>\n",
              "    <tr>\n",
              "      <th>26</th>\n",
              "      <td>Nvidia</td>\n",
              "      <td>Really bummed the  broadcast locks up my compu...</td>\n",
              "      <td>0.320000</td>\n",
              "      <td>0.145000</td>\n",
              "      <td>Positive</td>\n",
              "    </tr>\n",
              "    <tr>\n",
              "      <th>27</th>\n",
              "      <td>Nvidia</td>\n",
              "      <td>At VMworld 2020, , CEO,  predicts that 5G will...</td>\n",
              "      <td>0.477273</td>\n",
              "      <td>0.318182</td>\n",
              "      <td>Positive</td>\n",
              "    </tr>\n",
              "    <tr>\n",
              "      <th>28</th>\n",
              "      <td>Nvidia</td>\n",
              "      <td>PLANT THE SPIKE! I’m live on twitch playing VA...</td>\n",
              "      <td>0.500000</td>\n",
              "      <td>0.136364</td>\n",
              "      <td>Positive</td>\n",
              "    </tr>\n",
              "    <tr>\n",
              "      <th>29</th>\n",
              "      <td>Nvidia</td>\n",
              "      <td>Can you answer this? How to solve 'ERROR: An N...</td>\n",
              "      <td>0.000000</td>\n",
              "      <td>0.000000</td>\n",
              "      <td>Neutral</td>\n",
              "    </tr>\n",
              "    <tr>\n",
              "      <th>30</th>\n",
              "      <td>Nvidia</td>\n",
              "      <td>Installing and always keeping your PC ️ or GPU...</td>\n",
              "      <td>0.300000</td>\n",
              "      <td>1.000000</td>\n",
              "      <td>Positive</td>\n",
              "    </tr>\n",
              "    <tr>\n",
              "      <th>31</th>\n",
              "      <td>Nvidia</td>\n",
              "      <td>Its cold outside, now its time to game!!!!  vi...</td>\n",
              "      <td>0.483333</td>\n",
              "      <td>-0.525521</td>\n",
              "      <td>Negative</td>\n",
              "    </tr>\n",
              "    <tr>\n",
              "      <th>32</th>\n",
              "      <td>Nvidia</td>\n",
              "      <td>So what's the odds on if I can actually get an...</td>\n",
              "      <td>0.450000</td>\n",
              "      <td>0.200000</td>\n",
              "      <td>Positive</td>\n",
              "    </tr>\n",
              "    <tr>\n",
              "      <th>33</th>\n",
              "      <td>Nvidia</td>\n",
              "      <td>Nvidia , Domino’s, Cisco, Levi’s, and other st...</td>\n",
              "      <td>0.375000</td>\n",
              "      <td>-0.125000</td>\n",
              "      <td>Negative</td>\n",
              "    </tr>\n",
              "    <tr>\n",
              "      <th>34</th>\n",
              "      <td>Nvidia</td>\n",
              "      <td>Another huge shout out to  for the masterclass...</td>\n",
              "      <td>0.900000</td>\n",
              "      <td>0.400000</td>\n",
              "      <td>Positive</td>\n",
              "    </tr>\n",
              "    <tr>\n",
              "      <th>35</th>\n",
              "      <td>Nvidia</td>\n",
              "      <td>Actual photo of me admiring everyone's talent ...</td>\n",
              "      <td>0.100000</td>\n",
              "      <td>0.000000</td>\n",
              "      <td>Neutral</td>\n",
              "    </tr>\n",
              "    <tr>\n",
              "      <th>36</th>\n",
              "      <td>Nvidia</td>\n",
              "      <td>All I want to do is buy a rtx 3080 but can't. ...</td>\n",
              "      <td>0.666667</td>\n",
              "      <td>-0.383333</td>\n",
              "      <td>Negative</td>\n",
              "    </tr>\n",
              "    <tr>\n",
              "      <th>37</th>\n",
              "      <td>Nvidia</td>\n",
              "      <td>Gleaming in the Dark.  reddeadredemption2 RedD...</td>\n",
              "      <td>0.400000</td>\n",
              "      <td>-0.150000</td>\n",
              "      <td>Negative</td>\n",
              "    </tr>\n",
              "    <tr>\n",
              "      <th>38</th>\n",
              "      <td>Nvidia</td>\n",
              "      <td>Join me now for my end of month livestream dis...</td>\n",
              "      <td>0.400000</td>\n",
              "      <td>0.000000</td>\n",
              "      <td>Neutral</td>\n",
              "    </tr>\n",
              "    <tr>\n",
              "      <th>39</th>\n",
              "      <td>Nvidia</td>\n",
              "      <td>Very minor complaint, but why call the Canadia...</td>\n",
              "      <td>0.153333</td>\n",
              "      <td>-0.121667</td>\n",
              "      <td>Negative</td>\n",
              "    </tr>\n",
              "    <tr>\n",
              "      <th>40</th>\n",
              "      <td>Nvidia</td>\n",
              "      <td>Tourney starts at 4pm PST. Come support a smal...</td>\n",
              "      <td>0.400000</td>\n",
              "      <td>-0.250000</td>\n",
              "      <td>Negative</td>\n",
              "    </tr>\n",
              "    <tr>\n",
              "      <th>41</th>\n",
              "      <td>Nvidia</td>\n",
              "      <td>My new farm 2600$  1660 super nvidia mining</td>\n",
              "      <td>0.560606</td>\n",
              "      <td>0.234848</td>\n",
              "      <td>Positive</td>\n",
              "    </tr>\n",
              "    <tr>\n",
              "      <th>42</th>\n",
              "      <td>Nvidia</td>\n",
              "      <td>Well there's some cents ability. nvidia go g...</td>\n",
              "      <td>0.000000</td>\n",
              "      <td>0.000000</td>\n",
              "      <td>Neutral</td>\n",
              "    </tr>\n",
              "    <tr>\n",
              "      <th>43</th>\n",
              "      <td>Nvidia</td>\n",
              "      <td>Oct 5-9: NVIDIA $NVDA (UP +122% YTD) GPU Techn...</td>\n",
              "      <td>0.000000</td>\n",
              "      <td>0.000000</td>\n",
              "      <td>Neutral</td>\n",
              "    </tr>\n",
              "    <tr>\n",
              "      <th>44</th>\n",
              "      <td>Nvidia</td>\n",
              "      <td>nVidia if console games cater to an API co-dev...</td>\n",
              "      <td>0.000000</td>\n",
              "      <td>0.000000</td>\n",
              "      <td>Neutral</td>\n",
              "    </tr>\n",
              "    <tr>\n",
              "      <th>45</th>\n",
              "      <td>Nvidia</td>\n",
              "      <td>was able to stream and play warzone around 160...</td>\n",
              "      <td>0.512500</td>\n",
              "      <td>0.175000</td>\n",
              "      <td>Positive</td>\n",
              "    </tr>\n",
              "    <tr>\n",
              "      <th>46</th>\n",
              "      <td>Nvidia</td>\n",
              "      <td>MAKE sure to enter my giveaway 1x Rainbow Six ...</td>\n",
              "      <td>0.694444</td>\n",
              "      <td>0.000000</td>\n",
              "      <td>Neutral</td>\n",
              "    </tr>\n",
              "    <tr>\n",
              "      <th>47</th>\n",
              "      <td>Nvidia</td>\n",
              "      <td>life is 🟩   [ Follow Me] [Like❤] [Comment]  dr...</td>\n",
              "      <td>0.000000</td>\n",
              "      <td>0.000000</td>\n",
              "      <td>Neutral</td>\n",
              "    </tr>\n",
              "    <tr>\n",
              "      <th>48</th>\n",
              "      <td>Nvidia</td>\n",
              "      <td>&amp;gt; is sponsoring ’s GPU Technology Conf. GTC...</td>\n",
              "      <td>0.416667</td>\n",
              "      <td>0.183333</td>\n",
              "      <td>Positive</td>\n",
              "    </tr>\n",
              "    <tr>\n",
              "      <th>49</th>\n",
              "      <td>Nvidia</td>\n",
              "      <td>This is deep   Nvidia</td>\n",
              "      <td>0.400000</td>\n",
              "      <td>0.000000</td>\n",
              "      <td>Neutral</td>\n",
              "    </tr>\n",
              "    <tr>\n",
              "      <th>50</th>\n",
              "      <td>Nvidia</td>\n",
              "      <td>A Palit GeForce RTX 3090 GamingPro 24GB GDDR6X...</td>\n",
              "      <td>0.400000</td>\n",
              "      <td>0.400000</td>\n",
              "      <td>Positive</td>\n",
              "    </tr>\n",
              "    <tr>\n",
              "      <th>51</th>\n",
              "      <td>Nvidia</td>\n",
              "      <td>“Helang Malam” inspired by Nighthawk by Edward...</td>\n",
              "      <td>0.000000</td>\n",
              "      <td>0.000000</td>\n",
              "      <td>Neutral</td>\n",
              "    </tr>\n",
              "    <tr>\n",
              "      <th>52</th>\n",
              "      <td>Nvidia</td>\n",
              "      <td>style transfer is neat! Trained model on paint...</td>\n",
              "      <td>0.000000</td>\n",
              "      <td>0.000000</td>\n",
              "      <td>Neutral</td>\n",
              "    </tr>\n",
              "    <tr>\n",
              "      <th>53</th>\n",
              "      <td>Nvidia</td>\n",
              "      <td>The literal best streamer on earth is giving a...</td>\n",
              "      <td>0.300000</td>\n",
              "      <td>1.000000</td>\n",
              "      <td>Positive</td>\n",
              "    </tr>\n",
              "    <tr>\n",
              "      <th>54</th>\n",
              "      <td>Nvidia</td>\n",
              "      <td>CUDA RAY TRACING TUTORIAL:  | Get your hands d...</td>\n",
              "      <td>0.800000</td>\n",
              "      <td>-0.600000</td>\n",
              "      <td>Negative</td>\n",
              "    </tr>\n",
              "    <tr>\n",
              "      <th>55</th>\n",
              "      <td>Nvidia</td>\n",
              "      <td>Im 14years boy and im a gamer i make videos of...</td>\n",
              "      <td>0.000000</td>\n",
              "      <td>0.000000</td>\n",
              "      <td>Neutral</td>\n",
              "    </tr>\n",
              "    <tr>\n",
              "      <th>56</th>\n",
              "      <td>Nvidia</td>\n",
              "      <td>Don't forget  is giving away three nvidia rtx3...</td>\n",
              "      <td>0.750000</td>\n",
              "      <td>0.529444</td>\n",
              "      <td>Positive</td>\n",
              "    </tr>\n",
              "  </tbody>\n",
              "</table>\n",
              "</div>"
            ],
            "text/plain": [
              "   file_name  ...  Analysis\n",
              "0     Nvidia  ...  Positive\n",
              "1     Nvidia  ...  Positive\n",
              "2     Nvidia  ...  Positive\n",
              "3     Nvidia  ...   Neutral\n",
              "6     Nvidia  ...   Neutral\n",
              "9     Nvidia  ...  Positive\n",
              "10    Nvidia  ...  Positive\n",
              "11    Nvidia  ...   Neutral\n",
              "12    Nvidia  ...   Neutral\n",
              "13    Nvidia  ...  Positive\n",
              "14    Nvidia  ...  Positive\n",
              "17    Nvidia  ...  Positive\n",
              "19    Nvidia  ...  Negative\n",
              "20    Nvidia  ...  Positive\n",
              "21    Nvidia  ...  Negative\n",
              "22    Nvidia  ...  Positive\n",
              "23    Nvidia  ...  Positive\n",
              "24    Nvidia  ...   Neutral\n",
              "25    Nvidia  ...   Neutral\n",
              "26    Nvidia  ...  Positive\n",
              "27    Nvidia  ...  Positive\n",
              "28    Nvidia  ...  Positive\n",
              "29    Nvidia  ...   Neutral\n",
              "30    Nvidia  ...  Positive\n",
              "31    Nvidia  ...  Negative\n",
              "32    Nvidia  ...  Positive\n",
              "33    Nvidia  ...  Negative\n",
              "34    Nvidia  ...  Positive\n",
              "35    Nvidia  ...   Neutral\n",
              "36    Nvidia  ...  Negative\n",
              "37    Nvidia  ...  Negative\n",
              "38    Nvidia  ...   Neutral\n",
              "39    Nvidia  ...  Negative\n",
              "40    Nvidia  ...  Negative\n",
              "41    Nvidia  ...  Positive\n",
              "42    Nvidia  ...   Neutral\n",
              "43    Nvidia  ...   Neutral\n",
              "44    Nvidia  ...   Neutral\n",
              "45    Nvidia  ...  Positive\n",
              "46    Nvidia  ...   Neutral\n",
              "47    Nvidia  ...   Neutral\n",
              "48    Nvidia  ...  Positive\n",
              "49    Nvidia  ...   Neutral\n",
              "50    Nvidia  ...  Positive\n",
              "51    Nvidia  ...   Neutral\n",
              "52    Nvidia  ...   Neutral\n",
              "53    Nvidia  ...  Positive\n",
              "54    Nvidia  ...  Negative\n",
              "55    Nvidia  ...   Neutral\n",
              "56    Nvidia  ...  Positive\n",
              "\n",
              "[50 rows x 5 columns]"
            ]
          },
          "metadata": {},
          "execution_count": 21
        }
      ]
    },
    {
      "cell_type": "code",
      "metadata": {
        "id": "kK163PeBUL8K",
        "colab": {
          "base_uri": "https://localhost:8080/",
          "height": 1000
        },
        "outputId": "6f674789-7e51-4ae1-f436-bc3dc7458c68"
      },
      "source": [
        "df.reset_index(drop=True, inplace=True)\n",
        "df.tail(100)"
      ],
      "execution_count": null,
      "outputs": [
        {
          "output_type": "execute_result",
          "data": {
            "text/html": [
              "<div>\n",
              "<style scoped>\n",
              "    .dataframe tbody tr th:only-of-type {\n",
              "        vertical-align: middle;\n",
              "    }\n",
              "\n",
              "    .dataframe tbody tr th {\n",
              "        vertical-align: top;\n",
              "    }\n",
              "\n",
              "    .dataframe thead th {\n",
              "        text-align: right;\n",
              "    }\n",
              "</style>\n",
              "<table border=\"1\" class=\"dataframe\">\n",
              "  <thead>\n",
              "    <tr style=\"text-align: right;\">\n",
              "      <th></th>\n",
              "      <th>created_at</th>\n",
              "      <th>file_name</th>\n",
              "      <th>followers</th>\n",
              "      <th>friends</th>\n",
              "      <th>group_name</th>\n",
              "      <th>location</th>\n",
              "      <th>retweet_count</th>\n",
              "      <th>screenname</th>\n",
              "      <th>search_query</th>\n",
              "      <th>text</th>\n",
              "      <th>twitter_id</th>\n",
              "      <th>username</th>\n",
              "      <th>polarity</th>\n",
              "      <th>partition_0</th>\n",
              "      <th>partition_1</th>\n",
              "      <th>Subjectivity</th>\n",
              "      <th>NewPolarity</th>\n",
              "      <th>Analysis</th>\n",
              "    </tr>\n",
              "  </thead>\n",
              "  <tbody>\n",
              "    <tr>\n",
              "      <th>219829</th>\n",
              "      <td>2020-10-04 00:26:50</td>\n",
              "      <td>Youtube</td>\n",
              "      <td>3338</td>\n",
              "      <td>2348</td>\n",
              "      <td>Youtube</td>\n",
              "      <td>Washington, USA</td>\n",
              "      <td>0</td>\n",
              "      <td>CardHunting</td>\n",
              "      <td>#Youtube</td>\n",
              "      <td>Episode 3 of the new daily upload!!!  The Golf...</td>\n",
              "      <td>1312549704022913024</td>\n",
              "      <td>Justintime509 Gaming SC</td>\n",
              "      <td>0.0000</td>\n",
              "      <td>Technology</td>\n",
              "      <td>Youtube</td>\n",
              "      <td>0.207071</td>\n",
              "      <td>0.101010</td>\n",
              "      <td>Positive</td>\n",
              "    </tr>\n",
              "    <tr>\n",
              "      <th>219830</th>\n",
              "      <td>2020-10-04 00:26:15</td>\n",
              "      <td>Youtube</td>\n",
              "      <td>650</td>\n",
              "      <td>366</td>\n",
              "      <td>Youtube</td>\n",
              "      <td>Thailand</td>\n",
              "      <td>0</td>\n",
              "      <td>IBasskung</td>\n",
              "      <td>#Youtube</td>\n",
              "      <td>New Course Coming Soon!   ‍ iBasskung Academy...</td>\n",
              "      <td>1312549559654989824</td>\n",
              "      <td>iBasskung</td>\n",
              "      <td>0.3595</td>\n",
              "      <td>Technology</td>\n",
              "      <td>Youtube</td>\n",
              "      <td>0.454545</td>\n",
              "      <td>0.170455</td>\n",
              "      <td>Positive</td>\n",
              "    </tr>\n",
              "    <tr>\n",
              "      <th>219831</th>\n",
              "      <td>2020-10-04 00:25:26</td>\n",
              "      <td>Youtube</td>\n",
              "      <td>10</td>\n",
              "      <td>42</td>\n",
              "      <td>Youtube</td>\n",
              "      <td>16GiG channel</td>\n",
              "      <td>0</td>\n",
              "      <td>JamesJakkaphong</td>\n",
              "      <td>#Youtube</td>\n",
              "      <td>16GiG Channels NintendoSwitch DBZF animalcross...</td>\n",
              "      <td>1312549354767409153</td>\n",
              "      <td>16GiG Channel</td>\n",
              "      <td>0.0000</td>\n",
              "      <td>Technology</td>\n",
              "      <td>Youtube</td>\n",
              "      <td>0.000000</td>\n",
              "      <td>0.000000</td>\n",
              "      <td>Neutral</td>\n",
              "    </tr>\n",
              "    <tr>\n",
              "      <th>219832</th>\n",
              "      <td>2020-10-04 00:25:05</td>\n",
              "      <td>Youtube</td>\n",
              "      <td>40</td>\n",
              "      <td>913</td>\n",
              "      <td>Youtube</td>\n",
              "      <td>NaN</td>\n",
              "      <td>0</td>\n",
              "      <td>tubelooper</td>\n",
              "      <td>#Youtube</td>\n",
              "      <td>Check this thing out now! Awesome Jimi Hendrix...</td>\n",
              "      <td>1312549264229269504</td>\n",
              "      <td>tubelooper</td>\n",
              "      <td>0.7163</td>\n",
              "      <td>Technology</td>\n",
              "      <td>Youtube</td>\n",
              "      <td>1.000000</td>\n",
              "      <td>1.000000</td>\n",
              "      <td>Positive</td>\n",
              "    </tr>\n",
              "    <tr>\n",
              "      <th>219833</th>\n",
              "      <td>2020-10-04 00:24:56</td>\n",
              "      <td>Youtube</td>\n",
              "      <td>5231</td>\n",
              "      <td>451</td>\n",
              "      <td>Youtube</td>\n",
              "      <td>NaN</td>\n",
              "      <td>0</td>\n",
              "      <td>YFCsports</td>\n",
              "      <td>#Youtube</td>\n",
              "      <td>NFL Week 4 .   via    NFL PrizePicks DFS Footb...</td>\n",
              "      <td>1312549226749087744</td>\n",
              "      <td>Your Fielder's Choice</td>\n",
              "      <td>0.0000</td>\n",
              "      <td>Technology</td>\n",
              "      <td>Youtube</td>\n",
              "      <td>0.800000</td>\n",
              "      <td>0.400000</td>\n",
              "      <td>Positive</td>\n",
              "    </tr>\n",
              "    <tr>\n",
              "      <th>...</th>\n",
              "      <td>...</td>\n",
              "      <td>...</td>\n",
              "      <td>...</td>\n",
              "      <td>...</td>\n",
              "      <td>...</td>\n",
              "      <td>...</td>\n",
              "      <td>...</td>\n",
              "      <td>...</td>\n",
              "      <td>...</td>\n",
              "      <td>...</td>\n",
              "      <td>...</td>\n",
              "      <td>...</td>\n",
              "      <td>...</td>\n",
              "      <td>...</td>\n",
              "      <td>...</td>\n",
              "      <td>...</td>\n",
              "      <td>...</td>\n",
              "      <td>...</td>\n",
              "    </tr>\n",
              "    <tr>\n",
              "      <th>219924</th>\n",
              "      <td>2020-10-03 23:55:24</td>\n",
              "      <td>Youtube</td>\n",
              "      <td>561</td>\n",
              "      <td>881</td>\n",
              "      <td>Youtube</td>\n",
              "      <td>NaN</td>\n",
              "      <td>0</td>\n",
              "      <td>crystalmonay21</td>\n",
              "      <td>#Youtube</td>\n",
              "      <td>‼️NEW VIDEO‼️ Films inspired by Jodorowskys Du...</td>\n",
              "      <td>1312541794404573186</td>\n",
              "      <td>Those 2! REACTS On YT 💕😁</td>\n",
              "      <td>0.5411</td>\n",
              "      <td>Technology</td>\n",
              "      <td>Youtube</td>\n",
              "      <td>0.000000</td>\n",
              "      <td>0.000000</td>\n",
              "      <td>Neutral</td>\n",
              "    </tr>\n",
              "    <tr>\n",
              "      <th>219925</th>\n",
              "      <td>2020-10-03 23:55:16</td>\n",
              "      <td>Youtube</td>\n",
              "      <td>42410</td>\n",
              "      <td>33958</td>\n",
              "      <td>Youtube</td>\n",
              "      <td>England.</td>\n",
              "      <td>1</td>\n",
              "      <td>themerry_monk</td>\n",
              "      <td>#Youtube</td>\n",
              "      <td>You already know that you help many people, da...</td>\n",
              "      <td>1312541762662084608</td>\n",
              "      <td>Gerry McCann</td>\n",
              "      <td>0.9062</td>\n",
              "      <td>Technology</td>\n",
              "      <td>Youtube</td>\n",
              "      <td>0.364935</td>\n",
              "      <td>0.305195</td>\n",
              "      <td>Positive</td>\n",
              "    </tr>\n",
              "    <tr>\n",
              "      <th>219926</th>\n",
              "      <td>2020-10-03 23:54:59</td>\n",
              "      <td>Youtube</td>\n",
              "      <td>176</td>\n",
              "      <td>9</td>\n",
              "      <td>Youtube</td>\n",
              "      <td>NaN</td>\n",
              "      <td>0</td>\n",
              "      <td>asian_view</td>\n",
              "      <td>#Youtube</td>\n",
              "      <td>New vlog arrivals! Discover a lovely culture t...</td>\n",
              "      <td>1312541692046667777</td>\n",
              "      <td>Asian View</td>\n",
              "      <td>0.9167</td>\n",
              "      <td>Technology</td>\n",
              "      <td>Youtube</td>\n",
              "      <td>0.401515</td>\n",
              "      <td>0.223485</td>\n",
              "      <td>Positive</td>\n",
              "    </tr>\n",
              "    <tr>\n",
              "      <th>219927</th>\n",
              "      <td>2020-10-03 23:54:54</td>\n",
              "      <td>Youtube</td>\n",
              "      <td>308</td>\n",
              "      <td>567</td>\n",
              "      <td>Youtube</td>\n",
              "      <td>London UK</td>\n",
              "      <td>1</td>\n",
              "      <td>Kaiu24</td>\n",
              "      <td>#Youtube</td>\n",
              "      <td>New Video is up. Finally showing my new Stream...</td>\n",
              "      <td>1312541667703033858</td>\n",
              "      <td>Kaiu24</td>\n",
              "      <td>0.3182</td>\n",
              "      <td>Technology</td>\n",
              "      <td>Youtube</td>\n",
              "      <td>0.621818</td>\n",
              "      <td>-0.005455</td>\n",
              "      <td>Negative</td>\n",
              "    </tr>\n",
              "    <tr>\n",
              "      <th>219928</th>\n",
              "      <td>2020-10-03 23:54:53</td>\n",
              "      <td>Youtube</td>\n",
              "      <td>27</td>\n",
              "      <td>101</td>\n",
              "      <td>Youtube</td>\n",
              "      <td>England, United Kingdom</td>\n",
              "      <td>0</td>\n",
              "      <td>RyanDeebo</td>\n",
              "      <td>#Youtube</td>\n",
              "      <td>NEW VIDEO!!   FRIEND v FRIEND CHALLENGE!!     ...</td>\n",
              "      <td>1312541664494444544</td>\n",
              "      <td>RyanDeebo</td>\n",
              "      <td>0.9015</td>\n",
              "      <td>Technology</td>\n",
              "      <td>Youtube</td>\n",
              "      <td>0.454545</td>\n",
              "      <td>0.332919</td>\n",
              "      <td>Positive</td>\n",
              "    </tr>\n",
              "  </tbody>\n",
              "</table>\n",
              "<p>100 rows × 18 columns</p>\n",
              "</div>"
            ],
            "text/plain": [
              "                 created_at file_name  ...  NewPolarity  Analysis\n",
              "219829  2020-10-04 00:26:50   Youtube  ...     0.101010  Positive\n",
              "219830  2020-10-04 00:26:15   Youtube  ...     0.170455  Positive\n",
              "219831  2020-10-04 00:25:26   Youtube  ...     0.000000   Neutral\n",
              "219832  2020-10-04 00:25:05   Youtube  ...     1.000000  Positive\n",
              "219833  2020-10-04 00:24:56   Youtube  ...     0.400000  Positive\n",
              "...                     ...       ...  ...          ...       ...\n",
              "219924  2020-10-03 23:55:24   Youtube  ...     0.000000   Neutral\n",
              "219925  2020-10-03 23:55:16   Youtube  ...     0.305195  Positive\n",
              "219926  2020-10-03 23:54:59   Youtube  ...     0.223485  Positive\n",
              "219927  2020-10-03 23:54:54   Youtube  ...    -0.005455  Negative\n",
              "219928  2020-10-03 23:54:53   Youtube  ...     0.332919  Positive\n",
              "\n",
              "[100 rows x 18 columns]"
            ]
          },
          "metadata": {},
          "execution_count": 17
        }
      ]
    },
    {
      "cell_type": "markdown",
      "metadata": {
        "id": "5rDH719ZbLjm"
      },
      "source": [
        "Plotting the Subjectivity vs Polarity graph for first 1500 reviews"
      ]
    },
    {
      "cell_type": "code",
      "metadata": {
        "colab": {
          "base_uri": "https://localhost:8080/",
          "height": 441
        },
        "id": "_OPzDCAQVBDC",
        "outputId": "e5376611-cb86-462d-c9ca-13788c60ef76"
      },
      "source": [
        "#plot the polarity and subjectivity\n",
        "plt.figure(figsize=(8,6))\n",
        "for i in range(0, 100):\n",
        "  plt.scatter(df['NewPolarity'][i], df['Subjectivity'][i], color='Blue')\n",
        "  plt.title('Sentiment Analysis')\n",
        "  plt.xlabel('Polarity')\n",
        "  plt.ylabel('Subjectivity')\n",
        "  \n",
        "plt.show()\n"
      ],
      "execution_count": null,
      "outputs": [
        {
          "output_type": "display_data",
          "data": {
            "image/png": "[encoded data removed]",
            "text/plain": [
              "<Figure size 576x432 with 1 Axes>"
            ]
          },
          "metadata": {}
        }
      ]
    },
    {
      "cell_type": "code",
      "metadata": {
        "colab": {
          "base_uri": "https://localhost:8080/"
        },
        "id": "9iWTUEPKgx3Y",
        "outputId": "630fefd8-c2ce-46a4-a3ef-7227792e9ea3"
      },
      "source": [
        "df.shape[0]"
      ],
      "execution_count": null,
      "outputs": [
        {
          "output_type": "execute_result",
          "data": {
            "text/plain": [
              "219929"
            ]
          },
          "metadata": {},
          "execution_count": 24
        }
      ]
    },
    {
      "cell_type": "markdown",
      "metadata": {
        "id": "u3uUw3TYbdAG"
      },
      "source": [
        "Plotting the Subjectivity vs Polarity graph for Nvidia throughout the dataframe"
      ]
    },
    {
      "cell_type": "code",
      "metadata": {
        "colab": {
          "base_uri": "https://localhost:8080/",
          "height": 441
        },
        "id": "YPjv1rOpf9ES",
        "outputId": "60f7c93a-2a92-49d9-8fd9-1c910d9e8d7e"
      },
      "source": [
        "#plot the polarity and subjectivity\n",
        "plt.figure(figsize=(8,6))\n",
        "for i in range(0, df.shape[0]):\n",
        "  if (df['file_name'][i]=='Nvidia'):\n",
        "        plt.scatter(df['NewPolarity'][i], df['Subjectivity'][i], color='Green')\n",
        "\n",
        "  plt.title('Sentiment Analysis Of Nvidia And its Products')\n",
        "  plt.xlabel('Polarity')\n",
        "  plt.ylabel('Subjectivity')\n",
        "plt.show()"
      ],
      "execution_count": null,
      "outputs": [
        {
          "output_type": "display_data",
          "data": {
            "image/png": "[encoded data removed]",
            "text/plain": [
              "<Figure size 576x432 with 1 Axes>"
            ]
          },
          "metadata": {}
        }
      ]
    },
    {
      "cell_type": "markdown",
      "metadata": {
        "id": "VekL_7tdbnbn"
      },
      "source": [
        "Plotting the Subjectivity vs Polarity graph for Twitch throughout the dataframe"
      ]
    },
    {
      "cell_type": "code",
      "metadata": {
        "colab": {
          "base_uri": "https://localhost:8080/"
        },
        "id": "mG-vkv0yb5G-",
        "outputId": "ade6d429-6811-4c7f-b915-946090032173"
      },
      "source": [
        "#Get the percentage of Positive tweets\n",
        "ptweets = df[df.Analysis == 'Positive']\n",
        "ptweets = ptweets['text']\n",
        "\n",
        "round(  (ptweets.shape[0] / df.shape[0]) *100, 1)"
      ],
      "execution_count": null,
      "outputs": [
        {
          "output_type": "execute_result",
          "data": {
            "text/plain": [
              "52.3"
            ]
          },
          "metadata": {},
          "execution_count": 20
        }
      ]
    },
    {
      "cell_type": "code",
      "metadata": {
        "colab": {
          "base_uri": "https://localhost:8080/"
        },
        "id": "GoIDmwhwR7I6",
        "outputId": "1e4ce44d-6691-4b6e-c104-74b170109e64"
      },
      "source": [
        "nvidia = ptweets[df.file_name=='Nvidia']\n",
        "ms = ptweets[df.file_name=='Microsoft']\n",
        "amd = ptweets[df.file_name=='AMD']\n",
        "amazon = ptweets[df.file_name=='Amazon']\n",
        "twitch = ptweets[df.file_name=='Twitch']\n",
        "apple = ptweets[df.file_name=='Apple']\n",
        "youtube = ptweets[df.file_name=='Youtube']\n",
        "tesla = ptweets[df.file_name=='Tesla']\n",
        "google = ptweets[df.file_name=='Google']\n",
        "netflix = ptweets[df.file_name=='Netflix']\n",
        "\n",
        "\n",
        "\n",
        "print(\"Positive reviews regarding Nvidia and its products: \"+str(round(  (nvidia.shape[0] / ptweets.shape[0]) *100,1))+\"%\")\n",
        "print(\"Positive reviews regarding Microsoft and its products: \"+str(round(  (ms.shape[0] / ptweets.shape[0]) *100, 1))+\"%\")\n",
        "print(\"Positive reviews regarding AMD and its products: \"+str(round(  (amd.shape[0] / ptweets.shape[0]) *100, 1))+\"%\")\n",
        "print(\"Positive reviews regarding Amazon and its products: \"+str(round(  (amazon.shape[0] / ptweets.shape[0]) *100, 1))+\"%\")\n",
        "print(\"Positive reviews regarding Twitch and its products: \"+str(round(  (twitch.shape[0] / ptweets.shape[0]) *100, 1))+\"%\")\n",
        "print(\"Positive reviews regarding Apple and its products: \"+str(round(  (apple.shape[0] / ptweets.shape[0]) *100, 1))+\"%\")\n",
        "print(\"Positive reviews regarding Youtube and its products: \"+str(round(  (youtube.shape[0] / ptweets.shape[0]) *100, 1))+\"%\")\n",
        "print(\"Positive reviews regarding Tesla and its products: \"+str(round(  (tesla.shape[0] / ptweets.shape[0]) *100, 1))+\"%\")\n",
        "print(\"Positive reviews regarding Google and its products: \"+str(round(  (google.shape[0] / ptweets.shape[0]) *100, 1))+\"%\")\n",
        "print(\"Positive reviews regarding Netflix and its products: \"+str(round(  (netflix.shape[0] / ptweets.shape[0]) *100, 1))+\"%\")\n"
      ],
      "execution_count": null,
      "outputs": [
        {
          "output_type": "stream",
          "name": "stdout",
          "text": [
            "Positive reviews regarding Nvidia and its products: 1.5%\n",
            "Positive reviews regarding Microsoft and its products: 9.5%\n",
            "Positive reviews regarding AMD and its products: 1.3%\n",
            "Positive reviews regarding Amazon and its products: 8.8%\n",
            "Positive reviews regarding Twitch and its products: 17.4%\n",
            "Positive reviews regarding Apple and its products: 12.5%\n",
            "Positive reviews regarding Youtube and its products: 14.7%\n",
            "Positive reviews regarding Tesla and its products: 7.1%\n",
            "Positive reviews regarding Google and its products: 11.5%\n",
            "Positive reviews regarding Netflix and its products: 15.7%\n"
          ]
        }
      ]
    },
    {
      "cell_type": "code",
      "metadata": {
        "colab": {
          "base_uri": "https://localhost:8080/"
        },
        "id": "9n7Cj8AtcVwq",
        "outputId": "4e4fc78f-9c33-4f2c-97f2-b47631eeb48e"
      },
      "source": [
        "#Get the percentage of Negative tweets\n",
        "ntweets=df[df.Analysis == 'Negative']\n",
        "ntweets = ntweets['text']\n",
        "round(  (ntweets.shape[0] / df.shape[0]) *100, 1)"
      ],
      "execution_count": null,
      "outputs": [
        {
          "output_type": "execute_result",
          "data": {
            "text/plain": [
              "13.2"
            ]
          },
          "metadata": {},
          "execution_count": 22
        }
      ]
    },
    {
      "cell_type": "code",
      "metadata": {
        "colab": {
          "base_uri": "https://localhost:8080/"
        },
        "id": "LELBNJ7rZd6I",
        "outputId": "60890e6f-2fb3-46ed-8eda-77f9270e4c49"
      },
      "source": [
        "nvidiant = ntweets[df.file_name=='Nvidia']\n",
        "msnt = ntweets[df.file_name=='Microsoft']\n",
        "amdnt = ntweets[df.file_name=='AMD']\n",
        "amazonnt = ntweets[df.file_name=='Amazon']\n",
        "twitchnt = ntweets[df.file_name=='Twitch']\n",
        "applent = ntweets[df.file_name=='Apple']\n",
        "youtubent = ntweets[df.file_name=='Youtube']\n",
        "teslant = ntweets[df.file_name=='Tesla']\n",
        "googlent = ntweets[df.file_name=='Google']\n",
        "netflixnt = ntweets[df.file_name=='Netflix']\n",
        "\n",
        "print(\"Negative reviews regarding Nvidia and its products: \"+str(round(  (nvidiant.shape[0] / ntweets.shape[0]) *100, 1))+\"%\")\n",
        "print(\"Negative reviews regarding Microsoft and its products: \"+str(round(  (msnt.shape[0] / ntweets.shape[0]) *100, 1))+\"%\")\n",
        "print(\"Negative reviews regarding AMD and its products: \"+str(round(  (amdnt.shape[0] / ntweets.shape[0]) *100, 1))+\"%\")\n",
        "print(\"Negative reviews regarding Amazon and its products: \"+str(round(  (amazonnt.shape[0] / ntweets.shape[0]) *100, 1))+\"%\")\n",
        "print(\"Negative reviews regarding Twitch and its products: \"+str(round(  (twitchnt.shape[0] / ntweets.shape[0]) *100, 1))+\"%\")\n",
        "print(\"Negative reviews regarding Apple and its products: \"+str(round(  (applent.shape[0] / ntweets.shape[0]) *100, 1))+\"%\")\n",
        "print(\"Negative reviews regarding Youtube and its products: \"+str(round(  (youtubent.shape[0] / ntweets.shape[0]) *100, 1))+\"%\")\n",
        "print(\"Negative reviews regarding Tesla and its products: \"+str(round(  (teslant.shape[0] / ntweets.shape[0]) *100, 1))+\"%\")\n",
        "print(\"Negative reviews regarding Google and its products: \"+str(round(  (googlent.shape[0] / ntweets.shape[0]) *100, 1))+\"%\")\n",
        "print(\"Negative reviews regarding Netflix and its products: \"+str(round(  (netflixnt.shape[0] / ntweets.shape[0]) *100, 1))+\"%\")\n"
      ],
      "execution_count": null,
      "outputs": [
        {
          "output_type": "stream",
          "name": "stdout",
          "text": [
            "Negative reviews regarding Nvidia and its products: 1.8%\n",
            "Negative reviews regarding Microsoft and its products: 9.7%\n",
            "Negative reviews regarding AMD and its products: 0.9%\n",
            "Negative reviews regarding Amazon and its products: 7.2%\n",
            "Negative reviews regarding Twitch and its products: 17.5%\n",
            "Negative reviews regarding Apple and its products: 13.0%\n",
            "Negative reviews regarding Youtube and its products: 13.5%\n",
            "Negative reviews regarding Tesla and its products: 8.3%\n",
            "Negative reviews regarding Google and its products: 9.8%\n",
            "Negative reviews regarding Netflix and its products: 18.3%\n"
          ]
        }
      ]
    },
    {
      "cell_type": "code",
      "metadata": {
        "colab": {
          "base_uri": "https://localhost:8080/"
        },
        "id": "CP3e8Cj5chcb",
        "outputId": "9457f467-240e-4d42-9ec2-e61f080efaeb"
      },
      "source": [
        "#Get the percentage of Neutral tweets\n",
        "netweets=df[df.Analysis == 'Neutral']\n",
        "netweets = netweets['text']\n",
        "round(  (netweets.shape[0] / df.shape[0]) *100, 1)"
      ],
      "execution_count": null,
      "outputs": [
        {
          "output_type": "execute_result",
          "data": {
            "text/plain": [
              "34.4"
            ]
          },
          "metadata": {},
          "execution_count": 24
        }
      ]
    },
    {
      "cell_type": "code",
      "metadata": {
        "colab": {
          "base_uri": "https://localhost:8080/",
          "height": 374
        },
        "id": "snL-OMEpcwHx",
        "outputId": "7994148d-55eb-4042-bc21-1648764bd2e9"
      },
      "source": [
        "#Show the value counts\n",
        "\n",
        "df['Analysis'].value_counts()\n",
        "\n",
        "#plot and visualize the counts\n",
        "plt.title('Sentiment Analysis')\n",
        "plt.xlabel('Sentiment')\n",
        "plt.ylabel('Count')\n",
        "df['Analysis'].value_counts().plot(kind='bar')\n",
        "#amd.value_counts().plot(kind='bar')\n",
        "\n",
        "\n",
        "plt.show()\n"
      ],
      "execution_count": null,
      "outputs": [
        {
          "output_type": "display_data",
          "data": {
            "image/png": "[encoded data removed]",
            "text/plain": [
              "<Figure size 432x288 with 1 Axes>"
            ]
          },
          "metadata": {}
        }
      ]
    },
    {
      "cell_type": "code",
      "metadata": {
        "id": "0h34AaEN-BM7"
      },
      "source": [
        "#positive reviews variables\n",
        "p_nvidia=round((nvidia.shape[0] / ptweets.shape[0])*100,1)\n",
        "p_ms=round((ms.shape[0] / ptweets.shape[0])*100,1)\n",
        "p_amd=round((amd.shape[0] / ptweets.shape[0])*100,1)\n",
        "p_amz=round((amazon.shape[0] / ptweets.shape[0])*100,1)\n",
        "p_twitch=round((twitch.shape[0] / ptweets.shape[0])*100,1)\n",
        "p_apple=round((apple.shape[0] / ptweets.shape[0])*100,1)\n",
        "p_ytube=round((youtube.shape[0] / ptweets.shape[0])*100,1)\n",
        "p_tesla=round((tesla.shape[0] / ptweets.shape[0])*100,1)\n",
        "p_google=round((netflix.shape[0] / ptweets.shape[0])*100,1)\n",
        "p_netflix=round((netflix.shape[0] / ptweets.shape[0])*100,1)\n",
        "\n",
        "#negative reviews variables\n",
        "n_nvidia=round((nvidiant.shape[0] / ntweets.shape[0])*100,1)\n",
        "n_ms=round((msnt.shape[0] / ntweets.shape[0])*100,1)\n",
        "n_amd=round((amdnt.shape[0] / ntweets.shape[0])*100,1)\n",
        "n_amz=round((amazonnt.shape[0] / ntweets.shape[0])*100,1)\n",
        "n_twitch=round((twitchnt.shape[0] / ntweets.shape[0])*100,1)\n",
        "n_apple=round((applent.shape[0] / ntweets.shape[0])*100,1)\n",
        "n_ytube=round((youtubent.shape[0] / ntweets.shape[0])*100,1)\n",
        "n_tesla=round((teslant.shape[0] / ntweets.shape[0])*100,1)\n",
        "n_google=round((netflixnt.shape[0] / ntweets.shape[0])*100,1)\n",
        "n_netflix=round((netflixnt.shape[0] / ntweets.shape[0])*100,1)"
      ],
      "execution_count": null,
      "outputs": []
    },
    {
      "cell_type": "code",
      "metadata": {
        "colab": {
          "base_uri": "https://localhost:8080/",
          "height": 350
        },
        "id": "aQl64NmV2Uts",
        "outputId": "ddc4ef6b-232a-4f69-ee67-9c9170df65fd"
      },
      "source": [
        "plotdata = pd.DataFrame({\n",
        "    \"positive reviews\":[p_nvidia,p_ms,p_amd,p_amz,p_twitch,p_apple,p_ytube,p_tesla,p_google,p_netflix],\n",
        "    \"negative reviews\":[n_nvidia,n_ms,n_amd,n_amz,n_twitch,n_apple,n_ytube,n_tesla,n_google,n_netflix]\n",
        "    }, \n",
        "    index=[\"Nvidia\",\"Microsoft\",\"AMD\",\"Amazon\",\"Twitch\",\"Apple\", \"Youtube\",\"Tesla\",\"Google\",\"Netflix\"]\n",
        ")\n",
        "\n",
        "plotdata.plot(kind=\"bar\")"
      ],
      "execution_count": null,
      "outputs": [
        {
          "output_type": "execute_result",
          "data": {
            "text/plain": [
              "<matplotlib.axes._subplots.AxesSubplot at 0x7fc7d2cda210>"
            ]
          },
          "metadata": {},
          "execution_count": 27
        },
        {
          "output_type": "display_data",
          "data": {
            "image/png": "[encoded data removed]",
            "text/plain": [
              "<Figure size 432x288 with 1 Axes>"
            ]
          },
          "metadata": {}
        }
      ]
    },
    {
      "cell_type": "code",
      "metadata": {
        "id": "n8BoPJRGMiVV"
      },
      "source": [
        "import sklearn\n",
        "from sklearn.model_selection import train_test_split"
      ],
      "execution_count": null,
      "outputs": []
    },
    {
      "cell_type": "code",
      "metadata": {
        "id": "e5kIfrnKNN21"
      },
      "source": [
        "from sklearn.svm import SVR\n",
        "\n",
        "x = df['text'].head(500)\n",
        "y = df['NewPolarity'].head(500)\n",
        "x_train, x_test, y_train, y_test = train_test_split(x,y, test_size=0.15, random_state=42)\n",
        "\n",
        "# array1=np.array(x)\n",
        "# array2=np.array(y)\n",
        "\n",
        "# array1=array1.reshape(-1,1)\n",
        "# array2=array2.reshape(-1,1)\n",
        "\n",
        "# y=y.astype('float')\n",
        "# print(array1)\n",
        "# print(array2)"
      ],
      "execution_count": null,
      "outputs": []
    },
    {
      "cell_type": "code",
      "metadata": {
        "id": "IRjNjrl-iGzU",
        "colab": {
          "base_uri": "https://localhost:8080/"
        },
        "outputId": "9230b8e4-95cd-44a7-f013-956a80a16f0d"
      },
      "source": [
        "import joblib\n",
        "from sklearn.feature_extraction.text import CountVectorizer\n",
        "\n",
        "#Vectorize text reviews to numbers\n",
        "\n",
        "vec = CountVectorizer(stop_words='english')\n",
        "vec.fit(x,y)\n",
        "\n",
        "vectorizer=vec.transform(x)\n",
        "print(vectorizer.toarray())\n",
        "x = vec.fit_transform(x).toarray()\n",
        "\n",
        "x_test = vec.transform(x_test).toarray()\n",
        "y=y.astype('float')\n",
        "x=x.astype('float')\n",
        "print(x_test)\n",
        "#print(y)"
      ],
      "execution_count": null,
      "outputs": [
        {
          "output_type": "stream",
          "name": "stdout",
          "text": [
            "[[0 0 0 ... 0 0 0]\n",
            " [0 0 0 ... 0 0 0]\n",
            " [0 0 0 ... 0 0 0]\n",
            " ...\n",
            " [0 0 0 ... 0 0 0]\n",
            " [0 0 0 ... 0 0 0]\n",
            " [0 0 0 ... 0 0 0]]\n",
            "[[0 0 0 ... 0 0 0]\n",
            " [0 0 0 ... 0 0 0]\n",
            " [0 0 0 ... 0 0 0]\n",
            " ...\n",
            " [0 0 0 ... 0 0 0]\n",
            " [0 0 0 ... 0 0 0]\n",
            " [0 0 0 ... 0 0 0]]\n"
          ]
        }
      ]
    },
    {
      "cell_type": "code",
      "metadata": {
        "colab": {
          "base_uri": "https://localhost:8080/"
        },
        "id": "KbFTSXdYN1d4",
        "outputId": "13ef2731-89d1-4037-a938-7497268c63ef"
      },
      "source": [
        "from sklearn.naive_bayes import MultinomialNB\n",
        "from sklearn.linear_model import LinearRegression\n",
        "\n",
        "\n",
        "model = MultinomialNB()\n",
        "model.fit(x,y)"
      ],
      "execution_count": null,
      "outputs": [
        {
          "output_type": "execute_result",
          "data": {
            "text/plain": [
              "MultinomialNB()"
            ]
          },
          "metadata": {},
          "execution_count": 49
        }
      ]
    },
    {
      "cell_type": "code",
      "metadata": {
        "colab": {
          "base_uri": "https://localhost:8080/"
        },
        "id": "sYjWQHLvpywg",
        "outputId": "7a71e842-eb21-44ac-a563-9adecabcdbe7"
      },
      "source": [
        "from sklearn.linear_model import LinearRegression\n",
        "\n",
        "lireg=LinearRegression() # initialize the model\n",
        "lireg.fit(x,y) # fit the model\n",
        "vector=vec.transform([\"Amazon is the best in the world\"])\n",
        "y_pred=lireg.predict(vector) # now predict\n",
        "print(y_pred)\n",
        "# Taking out the accuracy \n",
        "\n",
        "#model.score(x,y)\n",
        "lireg.score(x,y)"
      ],
      "execution_count": null,
      "outputs": [
        {
          "output_type": "stream",
          "name": "stdout",
          "text": [
            "[0.43251676]\n"
          ]
        },
        {
          "output_type": "execute_result",
          "data": {
            "text/plain": [
              "1.0"
            ]
          },
          "metadata": {},
          "execution_count": 86
        }
      ]
    },
    {
      "cell_type": "code",
      "metadata": {
        "colab": {
          "base_uri": "https://localhost:8080/"
        },
        "id": "gv_YaUXSBLSA",
        "outputId": "9ac34781-d22d-4e56-98f6-5729c861c83f"
      },
      "source": [
        "review1=\"Amazon is worst company\"\n",
        "review2=\"I like Google Pixel\"\n",
        "review3=\"Microsoft is the best place to work\"\n",
        "review4=\"I dont like being with Salesforce\"\n",
        "vactorize=vec.transform([review1,review2,review3,review4])\n",
        "print(vactorize)\n",
        "prediction=lireg.predict(vactorize)\n",
        "print(prediction)"
      ],
      "execution_count": null,
      "outputs": [
        {
          "output_type": "stream",
          "name": "stdout",
          "text": [
            "  (0, 264)\t1\n",
            "  (0, 637)\t1\n",
            "  (0, 3044)\t1\n",
            "  (1, 1280)\t1\n",
            "  (1, 1638)\t1\n",
            "  (2, 410)\t1\n",
            "  (2, 1762)\t1\n",
            "  (2, 2066)\t1\n",
            "  (2, 3034)\t1\n",
            "  (3, 909)\t1\n",
            "  (3, 1638)\t1\n",
            "[0.01341091 0.01169406 0.12985583 0.00661825]\n"
          ]
        }
      ]
    },
    {
      "cell_type": "code",
      "metadata": {
        "id": "6_SPexUE6ijv"
      },
      "source": [
        "############Intsall \n",
        "#+streamlit\n",
        "#+pyngrok\n",
        "#+nohub/background"
      ],
      "execution_count": null,
      "outputs": []
    },
    {
      "cell_type": "code",
      "metadata": {
        "id": "i-6x2jaV65zO",
        "colab": {
          "base_uri": "https://localhost:8080/"
        },
        "outputId": "dceeb871-2c9b-43f4-a375-bc878d0e859e"
      },
      "source": [
        "!pip install streamlit\n"
      ],
      "execution_count": null,
      "outputs": [
        {
          "output_type": "stream",
          "name": "stdout",
          "text": [
            "Requirement already satisfied: streamlit in /usr/local/lib/python3.7/dist-packages (1.2.0)\n",
            "Requirement already satisfied: numpy in /usr/local/lib/python3.7/dist-packages (from streamlit) (1.19.5)\n",
            "Requirement already satisfied: astor in /usr/local/lib/python3.7/dist-packages (from streamlit) (0.8.1)\n",
            "Requirement already satisfied: watchdog in /usr/local/lib/python3.7/dist-packages (from streamlit) (2.1.6)\n",
            "Requirement already satisfied: toml in /usr/local/lib/python3.7/dist-packages (from streamlit) (0.10.2)\n",
            "Requirement already satisfied: pydeck>=0.1.dev5 in /usr/local/lib/python3.7/dist-packages (from streamlit) (0.7.1)\n",
            "Requirement already satisfied: protobuf!=3.11,>=3.6.0 in /usr/local/lib/python3.7/dist-packages (from streamlit) (3.17.3)\n",
            "Requirement already satisfied: tzlocal in /usr/local/lib/python3.7/dist-packages (from streamlit) (1.5.1)\n",
            "Requirement already satisfied: requests in /usr/local/lib/python3.7/dist-packages (from streamlit) (2.23.0)\n",
            "Requirement already satisfied: blinker in /usr/local/lib/python3.7/dist-packages (from streamlit) (1.4)\n",
            "Requirement already satisfied: tornado>=5.0 in /usr/local/lib/python3.7/dist-packages (from streamlit) (5.1.1)\n",
            "Requirement already satisfied: altair>=3.2.0 in /usr/local/lib/python3.7/dist-packages (from streamlit) (4.1.0)\n",
            "Requirement already satisfied: python-dateutil in /usr/local/lib/python3.7/dist-packages (from streamlit) (2.8.2)\n",
            "Requirement already satisfied: base58 in /usr/local/lib/python3.7/dist-packages (from streamlit) (2.1.1)\n",
            "Requirement already satisfied: validators in /usr/local/lib/python3.7/dist-packages (from streamlit) (0.18.2)\n",
            "Requirement already satisfied: attrs in /usr/local/lib/python3.7/dist-packages (from streamlit) (21.2.0)\n",
            "Requirement already satisfied: pillow>=6.2.0 in /usr/local/lib/python3.7/dist-packages (from streamlit) (7.1.2)\n",
            "Requirement already satisfied: gitpython!=3.1.19 in /usr/local/lib/python3.7/dist-packages (from streamlit) (3.1.24)\n",
            "Requirement already satisfied: pympler>=0.9 in /usr/local/lib/python3.7/dist-packages (from streamlit) (0.9)\n",
            "Requirement already satisfied: click<8.0,>=7.0 in /usr/local/lib/python3.7/dist-packages (from streamlit) (7.1.2)\n",
            "Requirement already satisfied: packaging in /usr/local/lib/python3.7/dist-packages (from streamlit) (21.3)\n",
            "Requirement already satisfied: pandas>=0.21.0 in /usr/local/lib/python3.7/dist-packages (from streamlit) (1.1.5)\n",
            "Requirement already satisfied: pyarrow in /usr/local/lib/python3.7/dist-packages (from streamlit) (3.0.0)\n",
            "Requirement already satisfied: cachetools>=4.0 in /usr/local/lib/python3.7/dist-packages (from streamlit) (4.2.4)\n",
            "Requirement already satisfied: entrypoints in /usr/local/lib/python3.7/dist-packages (from altair>=3.2.0->streamlit) (0.3)\n",
            "Requirement already satisfied: toolz in /usr/local/lib/python3.7/dist-packages (from altair>=3.2.0->streamlit) (0.11.2)\n",
            "Requirement already satisfied: jsonschema in /usr/local/lib/python3.7/dist-packages (from altair>=3.2.0->streamlit) (2.6.0)\n",
            "Requirement already satisfied: jinja2 in /usr/local/lib/python3.7/dist-packages (from altair>=3.2.0->streamlit) (2.11.3)\n",
            "Requirement already satisfied: typing-extensions>=3.7.4.3 in /usr/local/lib/python3.7/dist-packages (from gitpython!=3.1.19->streamlit) (3.10.0.2)\n",
            "Requirement already satisfied: gitdb<5,>=4.0.1 in /usr/local/lib/python3.7/dist-packages (from gitpython!=3.1.19->streamlit) (4.0.9)\n",
            "Requirement already satisfied: smmap<6,>=3.0.1 in /usr/local/lib/python3.7/dist-packages (from gitdb<5,>=4.0.1->gitpython!=3.1.19->streamlit) (5.0.0)\n",
            "Requirement already satisfied: pytz>=2017.2 in /usr/local/lib/python3.7/dist-packages (from pandas>=0.21.0->streamlit) (2018.9)\n",
            "Requirement already satisfied: six>=1.9 in /usr/local/lib/python3.7/dist-packages (from protobuf!=3.11,>=3.6.0->streamlit) (1.15.0)\n",
            "Requirement already satisfied: traitlets>=4.3.2 in /usr/local/lib/python3.7/dist-packages (from pydeck>=0.1.dev5->streamlit) (5.1.1)\n",
            "Requirement already satisfied: ipykernel>=5.1.2 in /usr/local/lib/python3.7/dist-packages (from pydeck>=0.1.dev5->streamlit) (6.5.1)\n",
            "Requirement already satisfied: ipywidgets>=7.0.0 in /usr/local/lib/python3.7/dist-packages (from pydeck>=0.1.dev5->streamlit) (7.6.5)\n",
            "Requirement already satisfied: matplotlib-inline<0.2.0,>=0.1.0 in /usr/local/lib/python3.7/dist-packages (from ipykernel>=5.1.2->pydeck>=0.1.dev5->streamlit) (0.1.3)\n",
            "Requirement already satisfied: argcomplete>=1.12.3 in /usr/local/lib/python3.7/dist-packages (from ipykernel>=5.1.2->pydeck>=0.1.dev5->streamlit) (1.12.3)\n",
            "Requirement already satisfied: ipython>=7.23.1 in /usr/local/lib/python3.7/dist-packages (from ipykernel>=5.1.2->pydeck>=0.1.dev5->streamlit) (7.29.0)\n",
            "Requirement already satisfied: jupyter-client<8.0 in /usr/local/lib/python3.7/dist-packages (from ipykernel>=5.1.2->pydeck>=0.1.dev5->streamlit) (5.3.5)\n",
            "Requirement already satisfied: debugpy<2.0,>=1.0.0 in /usr/local/lib/python3.7/dist-packages (from ipykernel>=5.1.2->pydeck>=0.1.dev5->streamlit) (1.0.0)\n",
            "Requirement already satisfied: importlib-metadata<5 in /usr/local/lib/python3.7/dist-packages (from ipykernel>=5.1.2->pydeck>=0.1.dev5->streamlit) (4.8.2)\n",
            "Requirement already satisfied: zipp>=0.5 in /usr/local/lib/python3.7/dist-packages (from importlib-metadata<5->ipykernel>=5.1.2->pydeck>=0.1.dev5->streamlit) (3.6.0)\n",
            "Requirement already satisfied: pickleshare in /usr/local/lib/python3.7/dist-packages (from ipython>=7.23.1->ipykernel>=5.1.2->pydeck>=0.1.dev5->streamlit) (0.7.5)\n",
            "Requirement already satisfied: decorator in /usr/local/lib/python3.7/dist-packages (from ipython>=7.23.1->ipykernel>=5.1.2->pydeck>=0.1.dev5->streamlit) (4.4.2)\n",
            "Requirement already satisfied: backcall in /usr/local/lib/python3.7/dist-packages (from ipython>=7.23.1->ipykernel>=5.1.2->pydeck>=0.1.dev5->streamlit) (0.2.0)\n",
            "Requirement already satisfied: pygments in /usr/local/lib/python3.7/dist-packages (from ipython>=7.23.1->ipykernel>=5.1.2->pydeck>=0.1.dev5->streamlit) (2.6.1)\n",
            "Requirement already satisfied: jedi>=0.16 in /usr/local/lib/python3.7/dist-packages (from ipython>=7.23.1->ipykernel>=5.1.2->pydeck>=0.1.dev5->streamlit) (0.18.1)\n",
            "Requirement already satisfied: prompt-toolkit!=3.0.0,!=3.0.1,<3.1.0,>=2.0.0 in /usr/local/lib/python3.7/dist-packages (from ipython>=7.23.1->ipykernel>=5.1.2->pydeck>=0.1.dev5->streamlit) (3.0.22)\n",
            "Requirement already satisfied: setuptools>=18.5 in /usr/local/lib/python3.7/dist-packages (from ipython>=7.23.1->ipykernel>=5.1.2->pydeck>=0.1.dev5->streamlit) (57.4.0)\n",
            "Requirement already satisfied: pexpect>4.3 in /usr/local/lib/python3.7/dist-packages (from ipython>=7.23.1->ipykernel>=5.1.2->pydeck>=0.1.dev5->streamlit) (4.8.0)\n",
            "Requirement already satisfied: ipython-genutils~=0.2.0 in /usr/local/lib/python3.7/dist-packages (from ipywidgets>=7.0.0->pydeck>=0.1.dev5->streamlit) (0.2.0)\n",
            "Requirement already satisfied: widgetsnbextension~=3.5.0 in /usr/local/lib/python3.7/dist-packages (from ipywidgets>=7.0.0->pydeck>=0.1.dev5->streamlit) (3.5.2)\n",
            "Requirement already satisfied: nbformat>=4.2.0 in /usr/local/lib/python3.7/dist-packages (from ipywidgets>=7.0.0->pydeck>=0.1.dev5->streamlit) (5.1.3)\n",
            "Requirement already satisfied: jupyterlab-widgets>=1.0.0 in /usr/local/lib/python3.7/dist-packages (from ipywidgets>=7.0.0->pydeck>=0.1.dev5->streamlit) (1.0.2)\n",
            "Requirement already satisfied: parso<0.9.0,>=0.8.0 in /usr/local/lib/python3.7/dist-packages (from jedi>=0.16->ipython>=7.23.1->ipykernel>=5.1.2->pydeck>=0.1.dev5->streamlit) (0.8.2)\n",
            "Requirement already satisfied: MarkupSafe>=0.23 in /usr/local/lib/python3.7/dist-packages (from jinja2->altair>=3.2.0->streamlit) (2.0.1)\n",
            "Requirement already satisfied: pyzmq>=13 in /usr/local/lib/python3.7/dist-packages (from jupyter-client<8.0->ipykernel>=5.1.2->pydeck>=0.1.dev5->streamlit) (22.3.0)\n",
            "Requirement already satisfied: jupyter-core>=4.6.0 in /usr/local/lib/python3.7/dist-packages (from jupyter-client<8.0->ipykernel>=5.1.2->pydeck>=0.1.dev5->streamlit) (4.9.1)\n",
            "Requirement already satisfied: ptyprocess>=0.5 in /usr/local/lib/python3.7/dist-packages (from pexpect>4.3->ipython>=7.23.1->ipykernel>=5.1.2->pydeck>=0.1.dev5->streamlit) (0.7.0)\n",
            "Requirement already satisfied: wcwidth in /usr/local/lib/python3.7/dist-packages (from prompt-toolkit!=3.0.0,!=3.0.1,<3.1.0,>=2.0.0->ipython>=7.23.1->ipykernel>=5.1.2->pydeck>=0.1.dev5->streamlit) (0.2.5)\n",
            "Requirement already satisfied: notebook>=4.4.1 in /usr/local/lib/python3.7/dist-packages (from widgetsnbextension~=3.5.0->ipywidgets>=7.0.0->pydeck>=0.1.dev5->streamlit) (5.3.1)\n",
            "Requirement already satisfied: terminado>=0.8.1 in /usr/local/lib/python3.7/dist-packages (from notebook>=4.4.1->widgetsnbextension~=3.5.0->ipywidgets>=7.0.0->pydeck>=0.1.dev5->streamlit) (0.12.1)\n",
            "Requirement already satisfied: nbconvert in /usr/local/lib/python3.7/dist-packages (from notebook>=4.4.1->widgetsnbextension~=3.5.0->ipywidgets>=7.0.0->pydeck>=0.1.dev5->streamlit) (5.6.1)\n",
            "Requirement already satisfied: Send2Trash in /usr/local/lib/python3.7/dist-packages (from notebook>=4.4.1->widgetsnbextension~=3.5.0->ipywidgets>=7.0.0->pydeck>=0.1.dev5->streamlit) (1.8.0)\n",
            "Requirement already satisfied: mistune<2,>=0.8.1 in /usr/local/lib/python3.7/dist-packages (from nbconvert->notebook>=4.4.1->widgetsnbextension~=3.5.0->ipywidgets>=7.0.0->pydeck>=0.1.dev5->streamlit) (0.8.4)\n",
            "Requirement already satisfied: testpath in /usr/local/lib/python3.7/dist-packages (from nbconvert->notebook>=4.4.1->widgetsnbextension~=3.5.0->ipywidgets>=7.0.0->pydeck>=0.1.dev5->streamlit) (0.5.0)\n",
            "Requirement already satisfied: defusedxml in /usr/local/lib/python3.7/dist-packages (from nbconvert->notebook>=4.4.1->widgetsnbextension~=3.5.0->ipywidgets>=7.0.0->pydeck>=0.1.dev5->streamlit) (0.7.1)\n",
            "Requirement already satisfied: bleach in /usr/local/lib/python3.7/dist-packages (from nbconvert->notebook>=4.4.1->widgetsnbextension~=3.5.0->ipywidgets>=7.0.0->pydeck>=0.1.dev5->streamlit) (4.1.0)\n",
            "Requirement already satisfied: pandocfilters>=1.4.1 in /usr/local/lib/python3.7/dist-packages (from nbconvert->notebook>=4.4.1->widgetsnbextension~=3.5.0->ipywidgets>=7.0.0->pydeck>=0.1.dev5->streamlit) (1.5.0)\n",
            "Requirement already satisfied: webencodings in /usr/local/lib/python3.7/dist-packages (from bleach->nbconvert->notebook>=4.4.1->widgetsnbextension~=3.5.0->ipywidgets>=7.0.0->pydeck>=0.1.dev5->streamlit) (0.5.1)\n",
            "Requirement already satisfied: pyparsing!=3.0.5,>=2.0.2 in /usr/local/lib/python3.7/dist-packages (from packaging->streamlit) (3.0.6)\n",
            "Requirement already satisfied: chardet<4,>=3.0.2 in /usr/local/lib/python3.7/dist-packages (from requests->streamlit) (3.0.4)\n",
            "Requirement already satisfied: certifi>=2017.4.17 in /usr/local/lib/python3.7/dist-packages (from requests->streamlit) (2021.10.8)\n",
            "Requirement already satisfied: idna<3,>=2.5 in /usr/local/lib/python3.7/dist-packages (from requests->streamlit) (2.10)\n",
            "Requirement already satisfied: urllib3!=1.25.0,!=1.25.1,<1.26,>=1.21.1 in /usr/local/lib/python3.7/dist-packages (from requests->streamlit) (1.24.3)\n"
          ]
        }
      ]
    },
    {
      "cell_type": "code",
      "metadata": {
        "id": "a_9wm9mW7TaY",
        "colab": {
          "base_uri": "https://localhost:8080/"
        },
        "outputId": "0b81a3dc-7fdc-4c83-988d-7439d99efc7a"
      },
      "source": [
        "!pip install pyngrok\n"
      ],
      "execution_count": null,
      "outputs": [
        {
          "output_type": "stream",
          "name": "stdout",
          "text": [
            "Requirement already satisfied: pyngrok in /usr/local/lib/python3.7/dist-packages (5.1.0)\n",
            "Requirement already satisfied: PyYAML in /usr/local/lib/python3.7/dist-packages (from pyngrok) (3.13)\n"
          ]
        }
      ]
    },
    {
      "cell_type": "code",
      "metadata": {
        "id": "STWnm-5abkB_",
        "colab": {
          "base_uri": "https://localhost:8080/"
        },
        "outputId": "fec93680-0f6d-402a-d51f-4a024edd45fb"
      },
      "source": [
        "!pip install --upgrade streamlit"
      ],
      "execution_count": null,
      "outputs": [
        {
          "output_type": "stream",
          "name": "stdout",
          "text": [
            "Requirement already satisfied: streamlit in /usr/local/lib/python3.7/dist-packages (1.2.0)\n",
            "Requirement already satisfied: packaging in /usr/local/lib/python3.7/dist-packages (from streamlit) (21.3)\n",
            "Requirement already satisfied: validators in /usr/local/lib/python3.7/dist-packages (from streamlit) (0.18.2)\n",
            "Requirement already satisfied: pydeck>=0.1.dev5 in /usr/local/lib/python3.7/dist-packages (from streamlit) (0.7.1)\n",
            "Requirement already satisfied: numpy in /usr/local/lib/python3.7/dist-packages (from streamlit) (1.19.5)\n",
            "Requirement already satisfied: astor in /usr/local/lib/python3.7/dist-packages (from streamlit) (0.8.1)\n",
            "Requirement already satisfied: toml in /usr/local/lib/python3.7/dist-packages (from streamlit) (0.10.2)\n",
            "Requirement already satisfied: click<8.0,>=7.0 in /usr/local/lib/python3.7/dist-packages (from streamlit) (7.1.2)\n",
            "Requirement already satisfied: requests in /usr/local/lib/python3.7/dist-packages (from streamlit) (2.23.0)\n",
            "Requirement already satisfied: tornado>=5.0 in /usr/local/lib/python3.7/dist-packages (from streamlit) (5.1.1)\n",
            "Requirement already satisfied: blinker in /usr/local/lib/python3.7/dist-packages (from streamlit) (1.4)\n",
            "Requirement already satisfied: watchdog in /usr/local/lib/python3.7/dist-packages (from streamlit) (2.1.6)\n",
            "Requirement already satisfied: protobuf!=3.11,>=3.6.0 in /usr/local/lib/python3.7/dist-packages (from streamlit) (3.17.3)\n",
            "Requirement already satisfied: attrs in /usr/local/lib/python3.7/dist-packages (from streamlit) (21.2.0)\n",
            "Requirement already satisfied: pyarrow in /usr/local/lib/python3.7/dist-packages (from streamlit) (3.0.0)\n",
            "Requirement already satisfied: gitpython!=3.1.19 in /usr/local/lib/python3.7/dist-packages (from streamlit) (3.1.24)\n",
            "Requirement already satisfied: python-dateutil in /usr/local/lib/python3.7/dist-packages (from streamlit) (2.8.2)\n",
            "Requirement already satisfied: pandas>=0.21.0 in /usr/local/lib/python3.7/dist-packages (from streamlit) (1.1.5)\n",
            "Requirement already satisfied: pillow>=6.2.0 in /usr/local/lib/python3.7/dist-packages (from streamlit) (7.1.2)\n",
            "Requirement already satisfied: tzlocal in /usr/local/lib/python3.7/dist-packages (from streamlit) (1.5.1)\n",
            "Requirement already satisfied: pympler>=0.9 in /usr/local/lib/python3.7/dist-packages (from streamlit) (0.9)\n",
            "Requirement already satisfied: base58 in /usr/local/lib/python3.7/dist-packages (from streamlit) (2.1.1)\n",
            "Requirement already satisfied: cachetools>=4.0 in /usr/local/lib/python3.7/dist-packages (from streamlit) (4.2.4)\n",
            "Requirement already satisfied: altair>=3.2.0 in /usr/local/lib/python3.7/dist-packages (from streamlit) (4.1.0)\n",
            "Requirement already satisfied: entrypoints in /usr/local/lib/python3.7/dist-packages (from altair>=3.2.0->streamlit) (0.3)\n",
            "Requirement already satisfied: jinja2 in /usr/local/lib/python3.7/dist-packages (from altair>=3.2.0->streamlit) (2.11.3)\n",
            "Requirement already satisfied: jsonschema in /usr/local/lib/python3.7/dist-packages (from altair>=3.2.0->streamlit) (2.6.0)\n",
            "Requirement already satisfied: toolz in /usr/local/lib/python3.7/dist-packages (from altair>=3.2.0->streamlit) (0.11.2)\n",
            "Requirement already satisfied: typing-extensions>=3.7.4.3 in /usr/local/lib/python3.7/dist-packages (from gitpython!=3.1.19->streamlit) (3.10.0.2)\n",
            "Requirement already satisfied: gitdb<5,>=4.0.1 in /usr/local/lib/python3.7/dist-packages (from gitpython!=3.1.19->streamlit) (4.0.9)\n",
            "Requirement already satisfied: smmap<6,>=3.0.1 in /usr/local/lib/python3.7/dist-packages (from gitdb<5,>=4.0.1->gitpython!=3.1.19->streamlit) (5.0.0)\n",
            "Requirement already satisfied: pytz>=2017.2 in /usr/local/lib/python3.7/dist-packages (from pandas>=0.21.0->streamlit) (2018.9)\n",
            "Requirement already satisfied: six>=1.9 in /usr/local/lib/python3.7/dist-packages (from protobuf!=3.11,>=3.6.0->streamlit) (1.15.0)\n",
            "Requirement already satisfied: ipykernel>=5.1.2 in /usr/local/lib/python3.7/dist-packages (from pydeck>=0.1.dev5->streamlit) (6.5.1)\n",
            "Requirement already satisfied: traitlets>=4.3.2 in /usr/local/lib/python3.7/dist-packages (from pydeck>=0.1.dev5->streamlit) (5.1.1)\n",
            "Requirement already satisfied: ipywidgets>=7.0.0 in /usr/local/lib/python3.7/dist-packages (from pydeck>=0.1.dev5->streamlit) (7.6.5)\n",
            "Requirement already satisfied: ipython>=7.23.1 in /usr/local/lib/python3.7/dist-packages (from ipykernel>=5.1.2->pydeck>=0.1.dev5->streamlit) (7.29.0)\n",
            "Requirement already satisfied: importlib-metadata<5 in /usr/local/lib/python3.7/dist-packages (from ipykernel>=5.1.2->pydeck>=0.1.dev5->streamlit) (4.8.2)\n",
            "Requirement already satisfied: argcomplete>=1.12.3 in /usr/local/lib/python3.7/dist-packages (from ipykernel>=5.1.2->pydeck>=0.1.dev5->streamlit) (1.12.3)\n",
            "Requirement already satisfied: matplotlib-inline<0.2.0,>=0.1.0 in /usr/local/lib/python3.7/dist-packages (from ipykernel>=5.1.2->pydeck>=0.1.dev5->streamlit) (0.1.3)\n",
            "Requirement already satisfied: debugpy<2.0,>=1.0.0 in /usr/local/lib/python3.7/dist-packages (from ipykernel>=5.1.2->pydeck>=0.1.dev5->streamlit) (1.0.0)\n",
            "Requirement already satisfied: jupyter-client<8.0 in /usr/local/lib/python3.7/dist-packages (from ipykernel>=5.1.2->pydeck>=0.1.dev5->streamlit) (5.3.5)\n",
            "Requirement already satisfied: zipp>=0.5 in /usr/local/lib/python3.7/dist-packages (from importlib-metadata<5->ipykernel>=5.1.2->pydeck>=0.1.dev5->streamlit) (3.6.0)\n",
            "Requirement already satisfied: setuptools>=18.5 in /usr/local/lib/python3.7/dist-packages (from ipython>=7.23.1->ipykernel>=5.1.2->pydeck>=0.1.dev5->streamlit) (57.4.0)\n",
            "Requirement already satisfied: pickleshare in /usr/local/lib/python3.7/dist-packages (from ipython>=7.23.1->ipykernel>=5.1.2->pydeck>=0.1.dev5->streamlit) (0.7.5)\n",
            "Requirement already satisfied: decorator in /usr/local/lib/python3.7/dist-packages (from ipython>=7.23.1->ipykernel>=5.1.2->pydeck>=0.1.dev5->streamlit) (4.4.2)\n",
            "Requirement already satisfied: backcall in /usr/local/lib/python3.7/dist-packages (from ipython>=7.23.1->ipykernel>=5.1.2->pydeck>=0.1.dev5->streamlit) (0.2.0)\n",
            "Requirement already satisfied: prompt-toolkit!=3.0.0,!=3.0.1,<3.1.0,>=2.0.0 in /usr/local/lib/python3.7/dist-packages (from ipython>=7.23.1->ipykernel>=5.1.2->pydeck>=0.1.dev5->streamlit) (3.0.22)\n",
            "Requirement already satisfied: pygments in /usr/local/lib/python3.7/dist-packages (from ipython>=7.23.1->ipykernel>=5.1.2->pydeck>=0.1.dev5->streamlit) (2.6.1)\n",
            "Requirement already satisfied: pexpect>4.3 in /usr/local/lib/python3.7/dist-packages (from ipython>=7.23.1->ipykernel>=5.1.2->pydeck>=0.1.dev5->streamlit) (4.8.0)\n",
            "Requirement already satisfied: jedi>=0.16 in /usr/local/lib/python3.7/dist-packages (from ipython>=7.23.1->ipykernel>=5.1.2->pydeck>=0.1.dev5->streamlit) (0.18.1)\n",
            "Requirement already satisfied: jupyterlab-widgets>=1.0.0 in /usr/local/lib/python3.7/dist-packages (from ipywidgets>=7.0.0->pydeck>=0.1.dev5->streamlit) (1.0.2)\n",
            "Requirement already satisfied: nbformat>=4.2.0 in /usr/local/lib/python3.7/dist-packages (from ipywidgets>=7.0.0->pydeck>=0.1.dev5->streamlit) (5.1.3)\n",
            "Requirement already satisfied: widgetsnbextension~=3.5.0 in /usr/local/lib/python3.7/dist-packages (from ipywidgets>=7.0.0->pydeck>=0.1.dev5->streamlit) (3.5.2)\n",
            "Requirement already satisfied: ipython-genutils~=0.2.0 in /usr/local/lib/python3.7/dist-packages (from ipywidgets>=7.0.0->pydeck>=0.1.dev5->streamlit) (0.2.0)\n",
            "Requirement already satisfied: parso<0.9.0,>=0.8.0 in /usr/local/lib/python3.7/dist-packages (from jedi>=0.16->ipython>=7.23.1->ipykernel>=5.1.2->pydeck>=0.1.dev5->streamlit) (0.8.2)\n",
            "Requirement already satisfied: MarkupSafe>=0.23 in /usr/local/lib/python3.7/dist-packages (from jinja2->altair>=3.2.0->streamlit) (2.0.1)\n",
            "Requirement already satisfied: jupyter-core>=4.6.0 in /usr/local/lib/python3.7/dist-packages (from jupyter-client<8.0->ipykernel>=5.1.2->pydeck>=0.1.dev5->streamlit) (4.9.1)\n",
            "Requirement already satisfied: pyzmq>=13 in /usr/local/lib/python3.7/dist-packages (from jupyter-client<8.0->ipykernel>=5.1.2->pydeck>=0.1.dev5->streamlit) (22.3.0)\n",
            "Requirement already satisfied: ptyprocess>=0.5 in /usr/local/lib/python3.7/dist-packages (from pexpect>4.3->ipython>=7.23.1->ipykernel>=5.1.2->pydeck>=0.1.dev5->streamlit) (0.7.0)\n",
            "Requirement already satisfied: wcwidth in /usr/local/lib/python3.7/dist-packages (from prompt-toolkit!=3.0.0,!=3.0.1,<3.1.0,>=2.0.0->ipython>=7.23.1->ipykernel>=5.1.2->pydeck>=0.1.dev5->streamlit) (0.2.5)\n",
            "Requirement already satisfied: notebook>=4.4.1 in /usr/local/lib/python3.7/dist-packages (from widgetsnbextension~=3.5.0->ipywidgets>=7.0.0->pydeck>=0.1.dev5->streamlit) (5.3.1)\n",
            "Requirement already satisfied: nbconvert in /usr/local/lib/python3.7/dist-packages (from notebook>=4.4.1->widgetsnbextension~=3.5.0->ipywidgets>=7.0.0->pydeck>=0.1.dev5->streamlit) (5.6.1)\n",
            "Requirement already satisfied: Send2Trash in /usr/local/lib/python3.7/dist-packages (from notebook>=4.4.1->widgetsnbextension~=3.5.0->ipywidgets>=7.0.0->pydeck>=0.1.dev5->streamlit) (1.8.0)\n",
            "Requirement already satisfied: terminado>=0.8.1 in /usr/local/lib/python3.7/dist-packages (from notebook>=4.4.1->widgetsnbextension~=3.5.0->ipywidgets>=7.0.0->pydeck>=0.1.dev5->streamlit) (0.12.1)\n",
            "Requirement already satisfied: mistune<2,>=0.8.1 in /usr/local/lib/python3.7/dist-packages (from nbconvert->notebook>=4.4.1->widgetsnbextension~=3.5.0->ipywidgets>=7.0.0->pydeck>=0.1.dev5->streamlit) (0.8.4)\n",
            "Requirement already satisfied: defusedxml in /usr/local/lib/python3.7/dist-packages (from nbconvert->notebook>=4.4.1->widgetsnbextension~=3.5.0->ipywidgets>=7.0.0->pydeck>=0.1.dev5->streamlit) (0.7.1)\n",
            "Requirement already satisfied: testpath in /usr/local/lib/python3.7/dist-packages (from nbconvert->notebook>=4.4.1->widgetsnbextension~=3.5.0->ipywidgets>=7.0.0->pydeck>=0.1.dev5->streamlit) (0.5.0)\n",
            "Requirement already satisfied: pandocfilters>=1.4.1 in /usr/local/lib/python3.7/dist-packages (from nbconvert->notebook>=4.4.1->widgetsnbextension~=3.5.0->ipywidgets>=7.0.0->pydeck>=0.1.dev5->streamlit) (1.5.0)\n",
            "Requirement already satisfied: bleach in /usr/local/lib/python3.7/dist-packages (from nbconvert->notebook>=4.4.1->widgetsnbextension~=3.5.0->ipywidgets>=7.0.0->pydeck>=0.1.dev5->streamlit) (4.1.0)\n",
            "Requirement already satisfied: webencodings in /usr/local/lib/python3.7/dist-packages (from bleach->nbconvert->notebook>=4.4.1->widgetsnbextension~=3.5.0->ipywidgets>=7.0.0->pydeck>=0.1.dev5->streamlit) (0.5.1)\n",
            "Requirement already satisfied: pyparsing!=3.0.5,>=2.0.2 in /usr/local/lib/python3.7/dist-packages (from packaging->streamlit) (3.0.6)\n",
            "Requirement already satisfied: urllib3!=1.25.0,!=1.25.1,<1.26,>=1.21.1 in /usr/local/lib/python3.7/dist-packages (from requests->streamlit) (1.24.3)\n",
            "Requirement already satisfied: certifi>=2017.4.17 in /usr/local/lib/python3.7/dist-packages (from requests->streamlit) (2021.10.8)\n",
            "Requirement already satisfied: idna<3,>=2.5 in /usr/local/lib/python3.7/dist-packages (from requests->streamlit) (2.10)\n",
            "Requirement already satisfied: chardet<4,>=3.0.2 in /usr/local/lib/python3.7/dist-packages (from requests->streamlit) (3.0.4)\n"
          ]
        }
      ]
    },
    {
      "cell_type": "code",
      "metadata": {
        "id": "0Qf2bbSC7dd9",
        "colab": {
          "base_uri": "https://localhost:8080/"
        },
        "outputId": "38b647c2-0a10-4208-bf00-60dfad0fdf69"
      },
      "source": [
        "%%writefile app.py\n",
        "import streamlit as st\n",
        "\n",
        "PAGE_CONFIG = {\"page_title\":\"StColab.io\",\"page_icon\":\":smiley:\",\"layout\":\"centered\"}\n",
        "st.set_page_config(**PAGE_CONFIG)\n",
        "\n",
        "def main():\n",
        "  st.title(\"Awesome Streamlit for my bootyful models\")\n",
        "  st.subheader(\"How to run streamlit from colab\")\n",
        "\n",
        "  menu = [\"Home\",\"About\"]\n",
        "  choice = st.sidebar.selectbox('Menu',menu)\n",
        "  if choice == 'Home':\n",
        "    st.subheader(\"Streamlit From Colab\")\n",
        "\n",
        "\n",
        "  if __name__=='__main__':\n",
        "    main()\n"
      ],
      "execution_count": null,
      "outputs": [
        {
          "output_type": "stream",
          "name": "stdout",
          "text": [
            "Overwriting app.py\n"
          ]
        }
      ]
    },
    {
      "cell_type": "code",
      "metadata": {
        "id": "QrTcheQAalo4"
      },
      "source": [
        "from pyngrok import ngrok\n",
        "\n",
        "\n",
        "\n"
      ],
      "execution_count": null,
      "outputs": []
    },
    {
      "cell_type": "code",
      "metadata": {
        "id": "FOxvYM9geXJG"
      },
      "source": [
        "!streamlit run app.py&>/dev/null&"
      ],
      "execution_count": null,
      "outputs": []
    },
    {
      "cell_type": "code",
      "metadata": {
        "id": "NtE4x7nMefaY",
        "colab": {
          "base_uri": "https://localhost:8080/"
        },
        "outputId": "5377b757-bbda-42a5-f42c-33d801f136f0"
      },
      "source": [
        "!pgrep streamlit"
      ],
      "execution_count": null,
      "outputs": [
        {
          "output_type": "stream",
          "name": "stdout",
          "text": [
            "1943\n"
          ]
        }
      ]
    },
    {
      "cell_type": "code",
      "metadata": {
        "id": "WVQYixnIekWc",
        "colab": {
          "base_uri": "https://localhost:8080/"
        },
        "outputId": "a13fa147-4713-4d4e-84ef-fb284450e846"
      },
      "source": [
        "\n",
        "publ_url = ngrok.connect(port='80')\n",
        "print(publ_url)"
      ],
      "execution_count": null,
      "outputs": [
        {
          "output_type": "stream",
          "name": "stdout",
          "text": [
            "NgrokTunnel: \"http://aeb1-104-199-68-117.ngrok.io\" -> \"http://localhost:80\"\n"
          ]
        }
      ]
    },
    {
      "cell_type": "code",
      "metadata": {
        "id": "f89-lgvSjX2x"
      },
      "source": [
        "!kill 1902"
      ],
      "execution_count": null,
      "outputs": []
    },
    {
      "cell_type": "code",
      "metadata": {
        "id": "fr5qQB8Gq4ox"
      },
      "source": [
        "#Code completed with 99% accuracy, thankyou for watching..."
      ],
      "execution_count": null,
      "outputs": []
    }
  ]
}